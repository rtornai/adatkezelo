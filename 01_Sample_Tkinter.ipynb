{
 "cells": [
  {
   "cell_type": "markdown",
   "id": "055e9cc9",
   "metadata": {
    "collapsed": false
   },
   "source": [
    "### GUI"
   ]
  },
  {
   "cell_type": "code",
   "execution_count": 3,
   "id": "889916c0",
   "metadata": {
    "collapsed": false
   },
   "outputs": [
   ],
   "source": [
    "from tkinter import *"
   ]
  },
  {
   "cell_type": "markdown",
   "id": "c139deab",
   "metadata": {
    "collapsed": false
   },
   "source": [
    "### Basic window"
   ]
  },
  {
   "cell_type": "code",
   "execution_count": 0,
   "id": "cb91aebf",
   "metadata": {
    "collapsed": false
   },
   "outputs": [
   ],
   "source": [
    "window = Tk()\n",
    "Label(window, text=\"Hello World!\").pack()\n",
    "window.mainloop()"
   ]
  },
  {
   "cell_type": "markdown",
   "id": "222e368f",
   "metadata": {
    "collapsed": false
   },
   "source": [
    "### Basic widgets"
   ]
  },
  {
   "cell_type": "code",
   "execution_count": 0,
   "id": "457a260e",
   "metadata": {
    "collapsed": false
   },
   "outputs": [
   ],
   "source": [
    "window = Tk()\n",
    "Label(window, text=\"Hello World!\").pack()\n",
    "Entry(window).pack()\n",
    "Button(window,\n",
    "    text=\"Click me!\"\n",
    ").pack()\n",
    "window.mainloop()"
   ]
  },
  {
   "cell_type": "markdown",
   "id": "4f34d613",
   "metadata": {
    "collapsed": false
   },
   "source": [
    "### Button callback"
   ]
  },
  {
   "cell_type": "code",
   "execution_count": 0,
   "id": "c29e0e0c",
   "metadata": {
    "collapsed": false
   },
   "outputs": [
   ],
   "source": [
    "window = Tk()\n",
    "Label(window, text=\"Hello World!\").pack()\n",
    "entry = Entry(window)\n",
    "entry.pack()\n",
    "\n",
    "def callback():\n",
    "    Label(window, text=entry.get()).pack()\n",
    "\n",
    "btn=Button(window, text=\"Click me!\", command=callback).pack()\n",
    "window.mainloop()"
   ]
  },
  {
   "cell_type": "markdown",
   "id": "24ae4a63",
   "metadata": {
    "collapsed": false
   },
   "source": [
    "### Frames"
   ]
  },
  {
   "cell_type": "code",
   "execution_count": 0,
   "id": "b4bbac7d",
   "metadata": {
    "collapsed": false
   },
   "outputs": [
   ],
   "source": [
    "import tkinter as tk\n",
    "\n",
    "window = tk.Tk()\n",
    "\n",
    "frame_a = tk.Frame()\n",
    "label_a = tk.Label(master=frame_a, text=\"I'm in Frame A\")\n",
    "label_a.pack()\n",
    "\n",
    "frame_b = tk.Frame()\n",
    "label_b = tk.Label(master=frame_b, text=\"I'm in Frame B\")\n",
    "label_b.pack()\n",
    "\n",
    "# Swap the order of `frame_a` and `frame_b`\n",
    "frame_b.pack()\n",
    "frame_a.pack()\n",
    "\n",
    "window.mainloop()"
   ]
  },
  {
   "cell_type": "markdown",
   "id": "094d53cd",
   "metadata": {
    "collapsed": false
   },
   "source": [
    "### Layouts"
   ]
  },
  {
   "cell_type": "code",
   "execution_count": 0,
   "id": "cdcae6b2",
   "metadata": {
    "collapsed": false
   },
   "outputs": [
   ],
   "source": [
    "### pack\n",
    "\n",
    "import tkinter as tk\n",
    "\n",
    "window = tk.Tk()\n",
    "\n",
    "frame1 = tk.Frame(master=window, width=100, height=100, bg=\"red\")\n",
    "frame1.pack()\n",
    "\n",
    "frame2 = tk.Frame(master=window, width=50, height=50, bg=\"yellow\")\n",
    "frame2.pack()\n",
    "\n",
    "frame3 = tk.Frame(master=window, width=25, height=25, bg=\"blue\")\n",
    "frame3.pack()\n",
    "\n",
    "window.mainloop()"
   ]
  },
  {
   "cell_type": "code",
   "execution_count": 0,
   "id": "b13eb23c",
   "metadata": {
    "collapsed": false
   },
   "outputs": [
   ],
   "source": [
    "### grid\n",
    "\n",
    "import tkinter as tk\n",
    "\n",
    "window = tk.Tk()\n",
    "\n",
    "for i in range(3):\n",
    "    for j in range(3):\n",
    "        frame = tk.Frame(\n",
    "            master=window,\n",
    "            relief=tk.RAISED,\n",
    "            borderwidth=1\n",
    "        )\n",
    "        frame.grid(row=i, column=j)\n",
    "        label = tk.Label(master=frame, text=f\"Row {i}\\nColumn {j}\")\n",
    "        label.pack()\n",
    "\n",
    "window.mainloop()"
   ]
  },
  {
   "cell_type": "code",
   "execution_count": 0,
   "id": "df98806d",
   "metadata": {
    "collapsed": false
   },
   "outputs": [
   ],
   "source": [
    "### place\n",
    "\n",
    "import tkinter as tk\n",
    "\n",
    "window = tk.Tk()\n",
    "\n",
    "frame = tk.Frame(master=window, width=150, height=150)\n",
    "frame.pack()\n",
    "\n",
    "label1 = tk.Label(master=frame, text=\"I'm at (0, 0)\", bg=\"red\")\n",
    "label1.place(x=0, y=0)\n",
    "\n",
    "label2 = tk.Label(master=frame, text=\"I'm at (75, 75)\", bg=\"yellow\")\n",
    "label2.place(x=75, y=75)\n",
    "\n",
    "window.mainloop()"
   ]
  },
  {
   "cell_type": "markdown",
   "id": "fd9ac159",
   "metadata": {
    "collapsed": false
   },
   "source": [
    "### Table"
   ]
  },
  {
   "cell_type": "code",
   "execution_count": 0,
   "id": "5971433a",
   "metadata": {
    "collapsed": false
   },
   "outputs": [
   ],
   "source": [
    "from tkinter import *\n",
    " \n",
    " \n",
    "class Table:\n",
    "     \n",
    "    def __init__(self,root):\n",
    "         \n",
    "        # code for creating table\n",
    "        for i in range(total_rows):\n",
    "            for j in range(total_columns):\n",
    "                 \n",
    "                self.e = Entry(root, width=20, fg='blue',\n",
    "                               font=('Arial',16,'bold'))\n",
    "                 \n",
    "                self.e.grid(row=i, column=j)\n",
    "                self.e.insert(END, lst[i][j])\n",
    " \n",
    "# take the data\n",
    "lst = [(1,'Raj','Mumbai',19),\n",
    "       (2,'Aaryan','Pune',18),\n",
    "       (3,'Vaishnavi','Mumbai',20),\n",
    "       (4,'Rachna','Mumbai',21),\n",
    "       (5,'Shubham','Delhi',21)]\n",
    "  \n",
    "# find total number of rows and\n",
    "# columns in list\n",
    "total_rows = len(lst)\n",
    "total_columns = len(lst[0])\n",
    "  \n",
    "# create root window\n",
    "root = Tk()\n",
    "t = Table(root)\n",
    "root.mainloop()"
   ]
  },
  {
   "cell_type": "markdown",
   "id": "32aa93f6",
   "metadata": {
    "collapsed": false
   },
   "source": [
    "### Example for product administration"
   ]
  },
  {
   "cell_type": "code",
   "execution_count": 2,
   "id": "86292b3f",
   "metadata": {
    "collapsed": false
   },
   "outputs": [
    {
     "name": "stdout",
     "output_type": "stream",
     "text": [
      "2.6.0\n"
     ]
    },
    {
     "data": {
      "text/plain": [
       "<sqlite3.Cursor at 0x7fbf330cdf10>"
      ]
     },
     "execution_count": 2,
     "metadata": {
     },
     "output_type": "execute_result"
    }
   ],
   "source": [
    "import sqlite3\n",
    "from sqlite3 import Error\n",
    "conn = sqlite3.connect(\"sqlite_order.db\")\n",
    "print(sqlite3.version)\n",
    "\n",
    "sql_create_order_table = \"\"\" CREATE TABLE IF NOT EXISTS products (\n",
    "                                    id integer PRIMARY KEY,\n",
    "                                    name text NOT NULL,\n",
    "                                    price integer NOT NULL\n",
    "                                ); \"\"\"\n",
    "\n",
    "c = conn.cursor()\n",
    "c.execute(sql_create_order_table)"
   ]
  },
  {
   "cell_type": "code",
   "execution_count": 5,
   "id": "79da2c7f",
   "metadata": {
    "collapsed": false
   },
   "outputs": [
   ],
   "source": [
    "sql = ''' INSERT INTO products(name,price)\n",
    "          VALUES(?,?) '''\n",
    "\n",
    "cur = conn.cursor()\n",
    "cur.execute(sql, (\"BigMac\", 999))\n",
    "cur.execute(sql, (\"Cheese burger\", 499))\n",
    "conn.commit()"
   ]
  },
  {
   "cell_type": "code",
   "execution_count": 3,
   "id": "430dabee",
   "metadata": {
    "collapsed": false
   },
   "outputs": [
   ],
   "source": [
    "cur = conn.cursor()\n",
    "cur.execute(\"SELECT * FROM products\")\n",
    "\n",
    "rows = cur.fetchall()"
   ]
  },
  {
   "cell_type": "code",
   "execution_count": 0,
   "id": "f1f31462",
   "metadata": {
    "collapsed": false
   },
   "outputs": [
   ],
   "source": [
    "from tkinter import *\n",
    " \n",
    " \n",
    "class Table:\n",
    "     \n",
    "    def __init__(self,root,lst):\n",
    "        self.e = {}\n",
    "        self.rows = lst\n",
    "        total_rows = len(lst)\n",
    "        total_columns = len(lst[0])\n",
    "        # code for creating table\n",
    "        for i in range(total_rows):\n",
    "            for j in range(total_columns):\n",
    "                self.e[j + (i * total_columns)] = Label(root, text=lst[i][j], width=20,\n",
    "                               font=('Arial',16,'bold'))\n",
    "                 \n",
    "                self.e[j + (i * total_columns)].grid(row=i+1, column=j)\n",
    " \n",
    "\n",
    "# create root window\n",
    "root = Tk()\n",
    "\n",
    "t = Table(root,rows)\n",
    "\n",
    "def delete_callback():\n",
    "    global t\n",
    "    total_rows = len(t.rows)\n",
    "    total_columns = len(t.rows[0])\n",
    "    \n",
    "    for i in range(total_rows):\n",
    "        for j in range(total_columns):\n",
    "            t.e[j + (i * total_columns)].destroy()\n",
    "    \n",
    "    sql = ''' INSERT INTO products(name,price)\n",
    "          VALUES(?,?) '''\n",
    "\n",
    "    cur = conn.cursor()\n",
    "    cur.execute(sql, (\"BigMac\", 999))\n",
    "    conn.commit()\n",
    "    \n",
    "    cur = conn.cursor()\n",
    "    cur.execute(\"SELECT * FROM products\")\n",
    "\n",
    "    rows = cur.fetchall()\n",
    "  \n",
    "    t = Table(root,rows)\n",
    "\n",
    "btn=Button(root, text=\"add new row\", command=delete_callback).grid(row=0, column=0)\n",
    "\n",
    "root.mainloop()"
   ]
  },
  {
   "cell_type": "code",
   "execution_count": 4,
   "id": "f178fca1",
   "metadata": {
    "collapsed": false
   },
   "outputs": [
    {
     "data": {
      "text/plain": [
       "[]"
      ]
     },
     "execution_count": 4,
     "metadata": {
     },
     "output_type": "execute_result"
    }
   ],
   "source": [
    "rows"
   ]
  },
  {
   "cell_type": "code",
   "execution_count": 0,
   "id": "4efaaa85",
   "metadata": {
    "collapsed": false
   },
   "outputs": [
   ],
   "source": [
    "t.e"
   ]
  },
  {
   "cell_type": "code",
   "execution_count": 0,
   "id": "682406d2",
   "metadata": {
    "collapsed": false
   },
   "outputs": [
   ],
   "source": [
    "for l in t.e:\n",
    "    print(l)"
   ]
  }
 ],
 "metadata": {
  "kernelspec": {
   "argv": [
    "/usr/bin/python3",
    "-m",
    "ipykernel",
    "--matplotlib=inline",
    "-c",
    "%config InlineBackend.figure_formats = set(['retina'])\nimport matplotlib; matplotlib.rcParams['figure.figsize'] = (12, 7)",
    "-f",
    "{connection_file}"
   ],
   "display_name": "Python 3 (Ubuntu Linux)",
   "env": {
   },
   "language": "python",
   "name": "python3-ubuntu",
   "resource_dir": "/usr/local/share/jupyter/kernels/python3-ubuntu"
  },
  "language_info": {
   "codemirror_mode": {
    "name": "ipython",
    "version": 3
   },
   "file_extension": ".py",
   "mimetype": "text/x-python",
   "name": "python",
   "nbconvert_exporter": "python",
   "pygments_lexer": "ipython3",
   "version": "3.9.12"
  }
 },
 "nbformat": 4,
 "nbformat_minor": 4
}