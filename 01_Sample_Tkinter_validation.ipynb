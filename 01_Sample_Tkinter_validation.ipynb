{
 "cells": [
  {
   "cell_type": "code",
   "execution_count": 0,
   "id": "68a6e8a3",
   "metadata": {
    "ExecuteTime": {
     "end_time": "2024-10-11T14:52:05.583695Z",
     "start_time": "2024-10-11T14:52:02.030738Z"
    },
    "collapsed": false
   },
   "outputs": [
   ],
   "source": [
    "!pip install openpyxl\n",
    "!pip install xlsxwriter\n",
    "import sqlite3\n",
    "from sqlite3 import Error"
   ]
  },
  {
   "cell_type": "markdown",
   "id": "e580e1a2",
   "metadata": {
    "collapsed": false
   },
   "source": [
    "### Create database"
   ]
  },
  {
   "cell_type": "code",
   "execution_count": 15,
   "id": "85cdae1a",
   "metadata": {
    "ExecuteTime": {
     "end_time": "2024-10-11T14:52:05.604089Z",
     "start_time": "2024-10-11T14:52:05.600086Z"
    },
    "collapsed": false
   },
   "outputs": [
    {
     "name": "stdout",
     "output_type": "stream",
     "text": [
      "3.45.3\n"
     ]
    }
   ],
   "source": [
    "conn = sqlite3.connect(\"sqlite_order.db\")\n",
    "print(sqlite3.sqlite_version)"
   ]
  },
  {
   "cell_type": "markdown",
   "id": "0fd1f5fc",
   "metadata": {
    "collapsed": false
   },
   "source": [
    "### Create table"
   ]
  },
  {
   "cell_type": "code",
   "execution_count": 16,
   "id": "3fd68043",
   "metadata": {
    "ExecuteTime": {
     "end_time": "2024-10-11T14:52:05.729460Z",
     "start_time": "2024-10-11T14:52:05.704421Z"
    },
    "collapsed": false
   },
   "outputs": [
    {
     "data": {
      "text/plain": [
       "<sqlite3.Cursor at 0x1e418df57c0>"
      ]
     },
     "execution_count": 16,
     "metadata": {
     },
     "output_type": "execute_result"
    }
   ],
   "source": [
    "sql_create_product_table = \"\"\" DROP TABLE IF EXISTS products; \"\"\"\n",
    "\n",
    "c = conn.cursor()\n",
    "c.execute(sql_create_product_table)"
   ]
  },
  {
   "cell_type": "code",
   "execution_count": 17,
   "id": "4939655b",
   "metadata": {
    "ExecuteTime": {
     "end_time": "2024-10-11T14:52:05.773931Z",
     "start_time": "2024-10-11T14:52:05.756213Z"
    },
    "collapsed": false
   },
   "outputs": [
    {
     "data": {
      "text/plain": [
       "<sqlite3.Cursor at 0x1e418df6fc0>"
      ]
     },
     "execution_count": 17,
     "metadata": {
     },
     "output_type": "execute_result"
    }
   ],
   "source": [
    "sql_create_product_table = \"\"\" CREATE TABLE IF NOT EXISTS products (\n",
    "                                    id integer PRIMARY KEY,\n",
    "                                    name text NOT NULL\n",
    "                                ); \"\"\"\n",
    "\n",
    "c = conn.cursor()\n",
    "c.execute(sql_create_product_table)"
   ]
  },
  {
   "cell_type": "markdown",
   "id": "72fc9fa0",
   "metadata": {
    "collapsed": false
   },
   "source": [
    "### Insert row"
   ]
  },
  {
   "cell_type": "code",
   "execution_count": 18,
   "id": "e0dd47a5",
   "metadata": {
    "ExecuteTime": {
     "end_time": "2024-10-11T14:52:05.807652Z",
     "start_time": "2024-10-11T14:52:05.804401Z"
    },
    "collapsed": false
   },
   "outputs": [
   ],
   "source": [
    "def insert_products(conn, p):\n",
    "    sql = ''' INSERT INTO products(name) VALUES(?) '''\n",
    "\n",
    "    cur = conn.cursor()\n",
    "    cur.execute(sql, p)\n",
    "    conn.commit()"
   ]
  },
  {
   "cell_type": "code",
   "execution_count": 19,
   "id": "cd9ad3eb",
   "metadata": {
    "ExecuteTime": {
     "end_time": "2024-10-11T14:52:05.845179Z",
     "start_time": "2024-10-11T14:52:05.829524Z"
    },
    "collapsed": false
   },
   "outputs": [
   ],
   "source": [
    "p = ('Product/Termék',)\n",
    "insert_products(conn, p)"
   ]
  },
  {
   "cell_type": "markdown",
   "id": "9e81612e",
   "metadata": {
    "collapsed": false
   },
   "source": [
    "### Delete all row"
   ]
  },
  {
   "cell_type": "code",
   "execution_count": 20,
   "id": "17494394",
   "metadata": {
    "ExecuteTime": {
     "end_time": "2024-10-11T14:52:05.867820Z",
     "start_time": "2024-10-11T14:52:05.864055Z"
    },
    "collapsed": false
   },
   "outputs": [
   ],
   "source": [
    "def delete_products(conn):\n",
    "    sql = ''' DELETE FROM products'''\n",
    "\n",
    "    cur = conn.cursor()\n",
    "    cur.execute(sql)\n",
    "    conn.commit()"
   ]
  },
  {
   "cell_type": "code",
   "execution_count": 21,
   "id": "a3725010",
   "metadata": {
    "ExecuteTime": {
     "end_time": "2024-10-11T14:52:05.900103Z",
     "start_time": "2024-10-11T14:52:05.875347Z"
    },
    "collapsed": false
   },
   "outputs": [
   ],
   "source": [
    "delete_products(conn)"
   ]
  },
  {
   "cell_type": "markdown",
   "id": "65484c79",
   "metadata": {
    "collapsed": false
   },
   "source": [
    "### Select table"
   ]
  },
  {
   "cell_type": "code",
   "execution_count": 22,
   "id": "5257460a",
   "metadata": {
    "ExecuteTime": {
     "end_time": "2024-10-11T14:52:05.911499Z",
     "start_time": "2024-10-11T14:52:05.908055Z"
    },
    "collapsed": false
   },
   "outputs": [
   ],
   "source": [
    "cur = conn.cursor()\n",
    "cur.execute(\"SELECT * FROM products\")\n",
    "\n",
    "rows = cur.fetchall()\n",
    "\n",
    "for row in rows:\n",
    "    print(row)"
   ]
  },
  {
   "cell_type": "code",
   "execution_count": 23,
   "id": "30484623",
   "metadata": {
    "ExecuteTime": {
     "end_time": "2024-10-11T14:52:31.070131Z",
     "start_time": "2024-10-11T14:52:05.919256Z"
    },
    "collapsed": false
   },
   "outputs": [
   ],
   "source": [
    "from tkinter import *\n",
    "from tkinter import messagebox\n",
    "import pandas as pd\n",
    "\n",
    "root = Tk()\n",
    "root.geometry('320x150')\n",
    "root.title('Editing products/Termékek szerkesztése')\n",
    "\n",
    "menubar = Menu(root)\n",
    "root.config(menu=menubar)\n",
    "\n",
    "file_menu = Menu(\n",
    "    menubar,\n",
    ")\n",
    "\n",
    "def export():\n",
    "    global conn\n",
    "    df = pd.read_sql('SELECT * FROM products', conn)\n",
    "    df.to_excel(\"output.xlsx\")\n",
    "    messagebox.showinfo(\"Information/Információ\",\"Successful export/Sikeres exportálás\")\n",
    "    \n",
    "def delete_all():\n",
    "    answer = messagebox.askokcancel(\"Alert!/Figyelem!\",\"Surely delet the database?/Biztosan törölni szeretné az adatbázist?\")\n",
    "    if answer:\n",
    "        global conn\n",
    "        delete_products(conn)\n",
    "    else: \n",
    "        print(\"-\")\n",
    "        \n",
    "\n",
    "\n",
    "file_menu.add_command(\n",
    "    label='Export/Exportálás',\n",
    "    command=export)\n",
    "\n",
    "file_menu.add_command(\n",
    "    label='Delete database/Adatbázis törlése', \n",
    "    command=delete_all)\n",
    "\n",
    "file_menu.add_separator()\n",
    "\n",
    "file_menu.add_command(\n",
    "    label='Exit',\n",
    "    command=root.destroy\n",
    ")\n",
    "\n",
    "menubar.add_cascade(\n",
    "    label=\"File\",\n",
    "    menu=file_menu\n",
    ")\n",
    "\n",
    "Label(root, text=\"Product name/Termék neve\", font=\"Arial 16\").pack()\n",
    "e = Entry(root)\n",
    "e.pack()\n",
    "\n",
    "def save_product():\n",
    "    global e, conn\n",
    "    p = (e.get(),)\n",
    "    insert_products(conn, p)\n",
    "    e.delete(0,END)\n",
    "\n",
    "Button(root, text=\"Save/Mentés\", font=\"Arial 16\", command=save_product).pack()\n",
    "\n",
    "root.mainloop()"
   ]
  },
  {
   "cell_type": "code",
   "execution_count": 24,
   "id": "b0c04254",
   "metadata": {
    "ExecuteTime": {
     "end_time": "2024-10-11T14:52:33.517930Z",
     "start_time": "2024-10-11T14:52:31.078065Z"
    },
    "collapsed": false
   },
   "outputs": [
    {
     "name": "stdout",
     "output_type": "stream",
     "text": [
      "\n"
     ]
    }
   ],
   "source": [
    "import tkinter as tk\n",
    "from tkinter import filedialog\n",
    "import os\n",
    "\n",
    "application_window = tk.Tk()\n",
    "\n",
    "my_filetypes = [('all files', '.*'), ('XLSX files', '.xlsx')]\n",
    "\n",
    "answer = filedialog.askopenfilename(parent=application_window,\n",
    "                                    initialdir=os.getcwd(),\n",
    "                                    title=\"File select/File kiválasztása:\",\n",
    "                                    filetypes=my_filetypes)\n",
    "\n",
    "print(answer)"
   ]
  },
  {
   "cell_type": "markdown",
   "id": "5a9763d8",
   "metadata": {
    "collapsed": false
   },
   "source": [
    "### Data validation"
   ]
  },
  {
   "cell_type": "code",
   "execution_count": 25,
   "id": "f8e26f0c",
   "metadata": {
    "ExecuteTime": {
     "end_time": "2024-10-11T14:52:33.534060Z",
     "start_time": "2024-10-11T14:52:33.530968Z"
    },
    "collapsed": false
   },
   "outputs": [
   ],
   "source": [
    "from tkinter import *\n",
    "from tkinter import messagebox"
   ]
  },
  {
   "cell_type": "markdown",
   "id": "a4c41915",
   "metadata": {
    "collapsed": false
   },
   "source": [
    "#### Validate entry"
   ]
  },
  {
   "cell_type": "code",
   "execution_count": 26,
   "id": "9d244c3e",
   "metadata": {
    "ExecuteTime": {
     "end_time": "2024-10-11T14:52:36.402504Z",
     "start_time": "2024-10-11T14:52:33.552132Z"
    },
    "collapsed": false
   },
   "outputs": [
   ],
   "source": [
    "window=Tk()\n",
    "\n",
    "def showAge():\n",
    "    if age.get().isdigit():\n",
    "        messagebox.showinfo(title=\"Age/Életkor\", message=\"Age/Életkor: \" + age.get())\n",
    "    else:\n",
    "        messagebox.showerror(title=\"Error/Hiba\", message=\"Nonvalid age entered/Hibás életkort adtál meg\")\n",
    "\n",
    "Label(window, text=\"Enter your age/Add meg az életkorod\").pack()\n",
    "age = Entry(window)\n",
    "age.pack()\n",
    "Button(window, text=\"Save/Mentés\", command=showAge).pack()\n",
    "\n",
    "window.mainloop()"
   ]
  },
  {
   "cell_type": "markdown",
   "id": "5ea8516c",
   "metadata": {
    "collapsed": false
   },
   "source": [
    "#### Validate realtime"
   ]
  },
  {
   "cell_type": "code",
   "execution_count": 27,
   "id": "0300452c",
   "metadata": {
    "ExecuteTime": {
     "end_time": "2024-10-11T14:52:48.644361Z",
     "start_time": "2024-10-11T14:52:36.422649Z"
    },
    "collapsed": false
   },
   "outputs": [
   ],
   "source": [
    "window=Tk()\n",
    "\n",
    "def showAge():\n",
    "    messagebox.showinfo(title=\"Age/Életkor\", message=\"Your age/Az életkorod: \" + age.get())\n",
    "\n",
    "def callback(P):\n",
    "    if str.isdigit(P) or P == \"\":\n",
    "        return True\n",
    "    else:\n",
    "        return False\n",
    "        \n",
    "vcmd = (window.register(callback))\n",
    "        \n",
    "Label(window, text=\"Enter your age/Add meg az életkorod\").pack()\n",
    "age = Entry(window, validate='all', validatecommand=(vcmd, '%P'))\n",
    "age.insert(0, 0)\n",
    "age.pack()\n",
    "Button(window, text=\"Save/Mentés\", command=showAge).pack()\n",
    "\n",
    "window.mainloop()"
   ]
  },
  {
   "cell_type": "code",
   "execution_count": 28,
   "id": "53d01057",
   "metadata": {
    "ExecuteTime": {
     "end_time": "2024-10-11T14:52:50.215027Z",
     "start_time": "2024-10-11T14:52:48.658111Z"
    },
    "collapsed": false
   },
   "outputs": [
   ],
   "source": [
    "window = Tk()\n",
    "window.geometry(\"650x450\")\n",
    "def hide_widget(widget):\n",
    "   widget.pack_forget()\n",
    "def show_widget(widget):\n",
    "   widget.pack()\n",
    "label= Label(window, text= \"Showing the Message\", font= ('Helvetica bold', 14))\n",
    "label.pack(pady=20)\n",
    "\n",
    "button_hide= Button(window, text= \"Hide\", command= lambda:hide_widget(label))\n",
    "button_hide.pack(pady=20)\n",
    "\n",
    "button_show= Button(window, text= \"Show\", command= lambda:show_widget(label))\n",
    "button_show.pack()\n",
    "\n",
    "window.mainloop()"
   ]
  },
  {
   "cell_type": "code",
   "execution_count": 29,
   "id": "37d26833",
   "metadata": {
    "ExecuteTime": {
     "end_time": "2024-10-11T14:52:51.496588Z",
     "start_time": "2024-10-11T14:52:50.227593Z"
    },
    "collapsed": false
   },
   "outputs": [
   ],
   "source": [
    "import re\n",
    "\n",
    "window = Tk()\n",
    "window.geometry(\"650x450\")\n",
    "\n",
    "def hide_widget(widget):\n",
    "   widget.pack_forget()\n",
    "def show_widget(widget):\n",
    "   widget.pack()\n",
    "\n",
    "regex = re.compile(r'([A-Za-z0-9]+[.-_])*[A-Za-z0-9]+@[A-Za-z0-9-]+(\\.[A-Z|a-z]{2,})+')\n",
    "\n",
    "def valid_email(email):\n",
    "    if re.fullmatch(regex, email):\n",
    "      email_error_label.pack_forget()\n",
    "    else:\n",
    "      email_error_label.pack()\n",
    "    return True\n",
    "    \n",
    "vcmd = (window.register(valid_email))\n",
    "\n",
    "\n",
    "\n",
    "email_frame = Frame(window)\n",
    "email_frame.pack()\n",
    "\n",
    "email_label = Label(email_frame, text= \"E-mail address\", font= ('Helvetica bold', 14))\n",
    "email_label.pack()\n",
    "\n",
    "email = Entry(email_frame, validatecommand=(vcmd, '%P'), validate=\"all\")\n",
    "email.pack()\n",
    "\n",
    "email_error_label= Label(email_frame, text= \"Incorrect email format\", font= ('Helvetica bold', 10), fg=\"red\")\n",
    "\n",
    "password_frame = Frame(window)\n",
    "password_frame.pack()\n",
    "\n",
    "password_label= Label(password_frame, text= \"Password\", font= ('Helvetica bold', 14))\n",
    "password_label.pack()\n",
    "\n",
    "password = Entry(password_frame, show=\"*\")\n",
    "password.pack()\n",
    "\n",
    "\n",
    "window.mainloop()"
   ]
  },
  {
   "cell_type": "markdown",
   "id": "afbc5107",
   "metadata": {
    "collapsed": false
   },
   "source": [
    "### Visualization"
   ]
  },
  {
   "cell_type": "markdown",
   "id": "e9331510",
   "metadata": {
    "collapsed": false
   },
   "source": [
    "#### Plot line"
   ]
  },
  {
   "cell_type": "code",
   "execution_count": 30,
   "id": "efdf173f",
   "metadata": {
    "ExecuteTime": {
     "end_time": "2024-10-11T14:52:53.342522Z",
     "start_time": "2024-10-11T14:52:51.508310Z"
    },
    "collapsed": false
   },
   "outputs": [
   ],
   "source": [
    "from matplotlib.figure import Figure \n",
    "from matplotlib.backends.backend_tkagg import FigureCanvasTkAgg \n",
    "    \n",
    "window = Tk() \n",
    "window.geometry(\"500x500\") \n",
    "\n",
    "fig = Figure(figsize = (5, 5), dpi = 100) \n",
    "\n",
    "y = [i**2 for i in range(10)] \n",
    "\n",
    "plot1 = fig.add_subplot(111) \n",
    "\n",
    "plot1.plot(y) \n",
    "\n",
    "canvas = FigureCanvasTkAgg(fig, master = window)   \n",
    "canvas.draw() \n",
    "\n",
    "canvas.get_tk_widget().pack() \n",
    "\n",
    "canvas.get_tk_widget().pack() \n",
    "\n",
    "window.mainloop() "
   ]
  },
  {
   "cell_type": "markdown",
   "id": "a6dd14da",
   "metadata": {
    "collapsed": false
   },
   "source": [
    "#### Bar chart"
   ]
  },
  {
   "cell_type": "code",
   "execution_count": 31,
   "id": "669c4fa7",
   "metadata": {
    "ExecuteTime": {
     "end_time": "2024-10-11T14:52:54.443723Z",
     "start_time": "2024-10-11T14:52:53.355540Z"
    },
    "collapsed": false
   },
   "outputs": [
   ],
   "source": [
    "data = {\n",
    "            'Product #1': 2,\n",
    "            'Product #2': 10,\n",
    "            'Product #3': 23,\n",
    "            'Product #4': 8,\n",
    "}\n",
    "\n",
    "products = data.keys()\n",
    "quantity = data.values()\n",
    "\n",
    "from matplotlib.figure import Figure \n",
    "from matplotlib.backends.backend_tkagg import FigureCanvasTkAgg \n",
    "    \n",
    "window = Tk() \n",
    "window.geometry(\"500x500\") \n",
    "\n",
    "fig = Figure(figsize = (5, 5), dpi = 100) \n",
    "\n",
    "plot1 = fig.add_subplot(111) \n",
    "\n",
    "plot1.bar(products, quantity)\n",
    "\n",
    "canvas = FigureCanvasTkAgg(fig, \n",
    "                       master = window)   \n",
    "canvas.draw() \n",
    "\n",
    "canvas.get_tk_widget().pack() \n",
    "\n",
    "canvas.get_tk_widget().pack() \n",
    "\n",
    "window.mainloop() "
   ]
  },
  {
   "cell_type": "markdown",
   "id": "4e7f3980",
   "metadata": {
    "collapsed": false
   },
   "source": [
    "#### Pie chart"
   ]
  },
  {
   "cell_type": "code",
   "execution_count": 32,
   "id": "38f2f6e8",
   "metadata": {
    "ExecuteTime": {
     "end_time": "2024-10-11T14:52:55.581679Z",
     "start_time": "2024-10-11T14:52:54.463226Z"
    },
    "collapsed": false
   },
   "outputs": [
   ],
   "source": [
    "from matplotlib.figure import Figure \n",
    "from matplotlib.backends.backend_tkagg import FigureCanvasTkAgg \n",
    "import numpy as np    \n",
    "    \n",
    "window = Tk() \n",
    "window.geometry(\"500x500\") \n",
    "\n",
    "fig = Figure(figsize = (5, 5), dpi = 100) \n",
    "\n",
    "plot1 = fig.add_subplot(111) \n",
    "\n",
    "x = [20, 10, 30, 40]\n",
    "label = ['apple', 'pear', 'orange', 'banana']\n",
    "\n",
    "plot1.pie(x, colors=[\"red\", \"green\", \"blue\", \"black\"], radius=3, center=(4, 4), labels = label,\n",
    "       wedgeprops={\"linewidth\": 1, \"edgecolor\": \"white\"}, frame=True)\n",
    "\n",
    "plot1.set(xlim=(0, 8), xticks=np.arange(1, 8),\n",
    "       ylim=(0, 8), yticks=np.arange(1, 8))\n",
    "\n",
    "canvas = FigureCanvasTkAgg(fig, \n",
    "                       master = window)   \n",
    "canvas.draw() \n",
    "\n",
    "canvas.get_tk_widget().pack() \n",
    "\n",
    "canvas.get_tk_widget().pack() \n",
    "\n",
    "window.mainloop() "
   ]
  },
  {
   "cell_type": "code",
   "execution_count": 33,
   "id": "b0e0aeaf",
   "metadata": {
    "ExecuteTime": {
     "end_time": "2024-10-11T14:52:57.048171Z",
     "start_time": "2024-10-11T14:52:55.602255Z"
    },
    "collapsed": false
   },
   "outputs": [
   ],
   "source": [
    "from matplotlib.figure import Figure \n",
    "from matplotlib.backends.backend_tkagg import FigureCanvasTkAgg \n",
    "    \n",
    "window = Tk() \n",
    "window.geometry(\"600x600\") \n",
    "\n",
    "fig = Figure(figsize = (5, 5), dpi = 100) \n",
    "\n",
    "plot1 = fig.add_subplot(111) \n",
    "\n",
    "x = np.arange(0, 5, 1)\n",
    "ay = [1, 2, 1, 3, 2]\n",
    "by = [0, 1, 3, 4, 7]\n",
    "y = np.vstack([ay, by])\n",
    "\n",
    "plot1.stackplot(x, y)\n",
    "\n",
    "plot1.set(xlim=(0, 4), xticks=np.arange(0, 5),\n",
    "          ylim=(0, 10), yticks=np.arange(0, 10))\n",
    "\n",
    "canvas = FigureCanvasTkAgg(fig, master = window)   \n",
    "canvas.draw() \n",
    "\n",
    "canvas.get_tk_widget().pack() \n",
    "\n",
    "canvas.get_tk_widget().pack() \n",
    "\n",
    "\n",
    "window.mainloop() "
   ]
  }
 ],
 "metadata": {
  "kernelspec": {
   "argv": [
    "/usr/bin/python3",
    "-m",
    "ipykernel",
    "--matplotlib=inline",
    "-c",
    "%config InlineBackend.figure_formats = set(['retina'])\nimport matplotlib; matplotlib.rcParams['figure.figsize'] = (12, 7)",
    "-f",
    "{connection_file}"
   ],
   "display_name": "Python 3 (Ubuntu Linux)",
   "env": {
   },
   "language": "python",
   "name": "python3-ubuntu",
   "resource_dir": "/usr/local/share/jupyter/kernels/python3-ubuntu"
  },
  "language_info": {
   "codemirror_mode": {
    "name": "ipython",
    "version": 3
   },
   "file_extension": ".py",
   "mimetype": "text/x-python",
   "name": "python",
   "nbconvert_exporter": "python",
   "pygments_lexer": "ipython3",
   "version": "3.11.4"
  }
 },
 "nbformat": 4,
 "nbformat_minor": 4
}