{
 "cells": [
  {
   "cell_type": "markdown",
   "id": "8a77807f92f26ee",
   "metadata": {
    "collapsed": false
   },
   "source": [
    "# Adatkezelő programok fejlesztése\n",
    "## #02 Saját típusok definiálása\n",
    "\n",
    "Ebben a fejezetben olyan feladatokat oldunk meg, melyek a Python programozási nyelv számunkra legfontosabb eszközeit érintik. Az adatkezelő függvényeinket és osztályainkat (valamint azok metódusait) úgy fogjuk megírni, hogy azok a saját típusainkat tudják kezelni. Emiatt a saját osztályok definiálásának lehetőségeit tárgyaljuk.\n",
    "\n",
    "Hozz létre egy data.basic csomagot, benne pedig egy model_classes modult. A következő feladatokat ebben a modulban oldd meg.\n",
    "\n",
    "[Dokumentáció](https://docs.python.org/3/library/dataclasses.html)\n",
    "\n",
    "[PEP 318 -- Decorators for Functions and Methods](https://www.python.org/dev/peps/pep-0318/)\n",
    "\n",
    "[PEP 557 -- Data Classes](https://www.python.org/dev/peps/pep-0557/)"
   ]
  },
  {
   "cell_type": "code",
   "execution_count": 3,
   "id": "fbc121e30a2defb3",
   "metadata": {
    "ExecuteTime": {
     "end_time": "2024-09-08T17:26:25.932433Z",
     "start_time": "2024-09-08T17:26:25.922851Z"
    },
    "collapsed": false
   },
   "outputs": [
    {
     "name": "stdout",
     "output_type": "stream",
     "text": [
      "Hello World!\n"
     ]
    }
   ],
   "source": [
    "print(\"Hello World!\")\n"
   ]
  },
  {
   "cell_type": "markdown",
   "id": "74eca760d6a4bd30",
   "metadata": {
    "collapsed": false
   },
   "source": [
    "## Person osztály definiálása\n",
    "\n",
    "Készítsünk egy olyan osztályt, amely személyeket ír le, azok legfontosabb adataival."
   ]
  },
  {
   "cell_type": "code",
   "execution_count": 4,
   "id": "bcf23c716aa4f2ad",
   "metadata": {
    "ExecuteTime": {
     "end_time": "2024-09-08T17:41:02.807687Z",
     "start_time": "2024-09-08T17:41:02.796510Z"
    },
    "collapsed": false
   },
   "outputs": [
   ],
   "source": [
    "class Person:\n",
    "    id: str\n",
    "    name: str\n",
    "    age: int\n",
    "    male: bool\n",
    "\n",
    "    \n",
    "    def __str__(self) -> str:\n",
    "        return \"#{0}: {1} ({2}, {3})\".format(self.id, self.name, self.age, self.male)\n",
    "\n",
    "    def __init__(self, id: str, name: str, age: int, male: bool = True) -> None:\n",
    "        self.id = id\n",
    "        self.name = name\n",
    "        self.age = age\n",
    "        self.male = male\n",
    "        \n",
    "    def __eq__(self, o: object) -> bool:\n",
    "        return isinstance(o, Person) and self.id == o.id\n",
    "    \n",
    "    def __ne__(self, other) -> bool:\n",
    "        return not self.__eq__(other)\n",
    "    \n",
    "    def __hash__(self) -> int:\n",
    "        return id.__hash__()\n",
    "    \n",
    "    def __lt__(self, o: object) -> bool:\n",
    "        if not isinstance(o, Person):\n",
    "            return NotImplemented\n",
    "\n",
    "        return self.id < o.id"
   ]
  },
  {
   "cell_type": "code",
   "execution_count": 5,
   "id": "9d152f4fbc1a8df9",
   "metadata": {
    "ExecuteTime": {
     "end_time": "2024-09-08T17:41:08.478468Z",
     "start_time": "2024-09-08T17:41:08.472645Z"
    },
    "collapsed": false
   },
   "outputs": [
   ],
   "source": [
    "john = Person(\"001\", \"John Doe\", 35, True)\n"
   ]
  },
  {
   "cell_type": "code",
   "execution_count": 6,
   "id": "41fb8f01e7e1bda0",
   "metadata": {
    "ExecuteTime": {
     "end_time": "2024-09-08T17:41:10.912790Z",
     "start_time": "2024-09-08T17:41:10.904791Z"
    },
    "collapsed": false
   },
   "outputs": [
    {
     "name": "stdout",
     "output_type": "stream",
     "text": [
      "#001: John Doe (35, True)\n"
     ]
    }
   ],
   "source": [
    "print(john)"
   ]
  },
  {
   "cell_type": "markdown",
   "id": "bcc7503a21a17304",
   "metadata": {
    "collapsed": false
   },
   "source": [
    "## Car osztály definiálása\n",
    "\n",
    "Készítsünk egy olyan osztályt, amely autókat ír le, azok legfontosabb adataival."
   ]
  },
  {
   "cell_type": "code",
   "execution_count": 7,
   "id": "d3296841b0928087",
   "metadata": {
    "ExecuteTime": {
     "end_time": "2024-09-08T17:47:52.008440Z",
     "start_time": "2024-09-08T17:47:52.001002Z"
    },
    "collapsed": false
   },
   "outputs": [
   ],
   "source": [
    "class Car:\n",
    "    # Rendszám (sztring)\n",
    "    plate: str\n",
    "    # Típus (sztring)\n",
    "    type: str\n",
    "    # Évjárat (egész)\n",
    "    year: int\n",
    "    # Váltó típus (logikai: True - automata, False - manuális)\n",
    "    automatic: bool\n",
    "    \n",
    "    def __init__(self, plate: str, type: str, year: int, automatic=True) -> None:\n",
    "        self.plate = plate\n",
    "        self.type = type\n",
    "        self.year = year\n",
    "        self.automatic = automatic\n",
    "        \n",
    "    def __str__(self) -> str:\n",
    "        return \"{0} ({1}, {2}): {3}\".format(self.plate, self.type, self.year, self.automatic)\n",
    "    \n",
    "    def __eq__(self, o: object) -> bool:\n",
    "        return isinstance(o, Car) and self.plate == o.plate\n",
    "    \n",
    "    def __ne__(self, other) -> bool:\n",
    "        return not self.__eq__(other)\n",
    "    \n",
    "    def __hash__(self) -> int:\n",
    "        return self.plate.__hash__()\n",
    "    \n",
    "    def __lt__(self, o: object) -> bool:\n",
    "        if not isinstance(o, Car):\n",
    "            return NotImplemented\n",
    "\n",
    "        return self.plate < o.plate"
   ]
  },
  {
   "cell_type": "code",
   "execution_count": 8,
   "id": "46a2d200b28510aa",
   "metadata": {
    "ExecuteTime": {
     "end_time": "2024-09-08T17:48:24.216296Z",
     "start_time": "2024-09-08T17:48:24.211182Z"
    },
    "collapsed": false
   },
   "outputs": [
    {
     "name": "stdout",
     "output_type": "stream",
     "text": [
      "ABC123 (Sedan, 2020): True\n"
     ]
    }
   ],
   "source": [
    "# Create an instance of Car\n",
    "car1 = Car(\"ABC123\", \"Sedan\", 2020, True)\n",
    "print(car1)"
   ]
  },
  {
   "cell_type": "markdown",
   "id": "ee25f99dc7c7b99b",
   "metadata": {
    "collapsed": false
   },
   "source": [
    "## Airport osztály definiálása\n",
    "\n",
    "Készítsünk egy olyan osztályt, amely repülőtereket ír le, azok legfontosabb adataival."
   ]
  },
  {
   "cell_type": "code",
   "execution_count": 9,
   "id": "e105daccdb08f88d",
   "metadata": {
    "ExecuteTime": {
     "end_time": "2024-09-08T17:52:30.626803Z",
     "start_time": "2024-09-08T17:52:30.614938Z"
    },
    "collapsed": false
   },
   "outputs": [
   ],
   "source": [
    "class Airport:\n",
    "    # ICAO kód (sztring)\n",
    "    code: str\n",
    "    # Reptér neve (sztring)\n",
    "    name: str\n",
    "    # Város (sztring)\n",
    "    city: str\n",
    "    # Tartomány/állam/megye (sztring)\n",
    "    state: str\n",
    "    # Ország (sztring)\n",
    "    country: str\n",
    "    \n",
    "    def __init__(self, code: str, name: str, city: str, state: str, country: str) -> None:\n",
    "        self.code = code\n",
    "        self.name = name\n",
    "        self.city = city\n",
    "        self.state = state\n",
    "        self.country = country\n",
    "        \n",
    "    def __str__(self) -> str:\n",
    "        return \"{code} ({name}): {city}, {state}, {country}\".format(\n",
    "            code=self.code, name=self.name, city=self.city,\n",
    "            state=self.state, country=self.country)\n",
    "    \n",
    "    def __eq__(self, o: object) -> bool:\n",
    "        return isinstance(o, Airport) and self.code == o.code\n",
    "    \n",
    "    def __ne__(self, other) -> bool:\n",
    "        return not self.__eq__(other)\n",
    "    \n",
    "    def __hash__(self) -> int:\n",
    "        return self.code.__hash__()\n",
    "    \n",
    "    def __lt__(self, o: object) -> bool:\n",
    "        if not isinstance(o, Airport):\n",
    "            return NotImplemented\n",
    "\n",
    "        return self.code < o.code"
   ]
  },
  {
   "cell_type": "code",
   "execution_count": 10,
   "id": "98833ebcf0d177a4",
   "metadata": {
    "ExecuteTime": {
     "end_time": "2024-09-08T17:59:04.462807Z",
     "start_time": "2024-09-08T17:59:04.455732Z"
    },
    "collapsed": false
   },
   "outputs": [
    {
     "name": "stdout",
     "output_type": "stream",
     "text": [
      "EGLL (Heathrow): London, England, United Kingdom\n"
     ]
    }
   ],
   "source": [
    "# Példa egy Airport objektum létrehozására\n",
    "airport1 = Airport(\"EGLL\", \"Heathrow\", \"London\", \"England\", \"United Kingdom\")\n",
    "\n",
    "# Adatok kiíratása\n",
    "print(airport1)"
   ]
  },
  {
   "cell_type": "markdown",
   "id": "9438e99c42f1c6ca",
   "metadata": {
    "collapsed": false
   },
   "source": [
    "## Feladatok\n",
    "\n",
    "A data.basic csomagban hozz létre egy model_dataclasses modult. A következő típusokat ebben a modulban definiáld.\n",
    "\n",
    "Definiáld a korábbi Person osztályt a @dataclass decorator segítségével. Próbálj ki többféle lehetőséget is annak érdekében, hogy a háttérben generált metódusok minél pontosabban megfeleljenek a saját implementációidnak.\n",
    "\n",
    "Definiáld a korábbi Car osztályt a @dataclass decorator segítségével. Próbálj ki többféle lehetőséget is annak érdekében, hogy a háttérben generált metódusok minél pontosabban megfeleljenek a saját implementációidnak.\n",
    "\n",
    "Definiáld a korábbi Airport osztályt a @dataclass decorator segítségével. Próbálj ki többféle lehetőséget is annak érdekében, hogy a háttérben generált metódusok minél pontosabban megfeleljenek a saját implementációidnak."
   ]
  },
  {
   "cell_type": "code",
   "execution_count": 11,
   "id": "18ac4a644b965ff7",
   "metadata": {
    "ExecuteTime": {
     "end_time": "2024-09-08T18:02:05.425670Z",
     "start_time": "2024-09-08T18:02:05.398649Z"
    },
    "collapsed": false
   },
   "outputs": [
    {
     "name": "stdout",
     "output_type": "stream",
     "text": [
      "Person(id='001', name='John Doe', age=30, male=True)\n"
     ]
    }
   ],
   "source": [
    "from dataclasses import dataclass\n",
    "\n",
    "@dataclass\n",
    "class Person:\n",
    "    id: str\n",
    "    name: str\n",
    "    age: int\n",
    "    male: bool = True  # Alapértelmezett érték\n",
    "\n",
    "# Példa egy Person objektum létrehozására\n",
    "person1 = Person(\"001\", \"John Doe\", 30, True)\n",
    "\n",
    "# Person adatainak kiíratása\n",
    "print(person1)\n"
   ]
  },
  {
   "cell_type": "code",
   "execution_count": 3,
   "id": "8a840a60deab6bdc",
   "metadata": {
    "ExecuteTime": {
     "end_time": "2024-09-08T18:07:37.721743Z",
     "start_time": "2024-09-08T18:07:37.697998Z"
    },
    "collapsed": false
   },
   "outputs": [
   ],
   "source": [
    "from dataclasses import dataclass, field\n",
    "\n",
    "# slots makes 20% faster\n",
    "# order for equations\n",
    "# frozen for hash\n",
    "@dataclass(slots = \"True\", order = \"True\", frozen = \"True\")\n",
    "class Person:\n",
    "    id: str = field(hash=True)\n",
    "    name: str = field(repr=True, compare=False)\n",
    "    age: int = field(repr=True, compare=False)\n",
    "    male: bool = field(default=True, repr=True, compare=False)\n",
    "\n",
    "\n",
    "@dataclass\n",
    "class Car:\n",
    "    plate: str = field(hash=True)\n",
    "    type: str = field(repr=True, compare=False)\n",
    "    year: int = field(repr=True, compare=False)\n",
    "    automatic: bool = field(default=True, repr=True, compare=False)\n",
    "\n",
    "\n",
    "@dataclass\n",
    "class Airport:\n",
    "    code: str = field(hash=True)\n",
    "    name: str = field(repr=True, compare=False)\n",
    "    city: str = field(repr=True, compare=False)\n",
    "    state: str = field(repr=True, compare=False)\n",
    "    country: str = field(repr=True, compare=False)"
   ]
  },
  {
   "cell_type": "markdown",
   "id": "8858b2",
   "metadata": {
    "collapsed": false
   },
   "source": [
    "In this example:\n",
    "\n",
    "The add\\_less\\_equal decorator adds a \\_\\_le\\_\\_ method to the class, which implements the “less than or equal to” comparison.\n",
    "\n",
    "The \\_\\_le\\_\\_ method checks if the other object is an instance of the same class and compares their value attributes.\n",
    "\n",
    "The MyClass class is decorated with @add\\_less\\_equal, which adds the \\_\\_le\\_\\_ method to it.\n",
    "\n",
    "This way, you can use the &lt;= operator to compare instances of MyClass.\n",
    "\n"
   ]
  },
  {
   "cell_type": "code",
   "execution_count": 13,
   "id": "2c2a96",
   "metadata": {
    "collapsed": false
   },
   "outputs": [
   ],
   "source": [
    "def add_less_equal(cls):\n",
    "    def __le__(self, other):\n",
    "        if isinstance(other, cls):\n",
    "            return self.value <= other.value\n",
    "        return NotImplemented\n",
    "    cls.__le__ = __le__\n",
    "    return cls\n",
    "\n",
    "@add_less_equal\n",
    "class MyClass:\n",
    "    def __init__(self, value):\n",
    "        self.value = value"
   ]
  },
  {
   "cell_type": "code",
   "execution_count": 14,
   "id": "ae24d7",
   "metadata": {
    "collapsed": false
   },
   "outputs": [
    {
     "name": "stdout",
     "output_type": "stream",
     "text": [
      "True\n",
      "False\n"
     ]
    }
   ],
   "source": [
    "# Example usage\n",
    "a = MyClass(5)\n",
    "b = MyClass(10)\n",
    "\n",
    "print(a <= b)  # Output: True\n",
    "print(b <= a)  # Output: False"
   ]
  }
 ],
 "metadata": {
  "kernelspec": {
   "argv": [
    "/usr/bin/python3",
    "-m",
    "ipykernel",
    "--matplotlib=inline",
    "-c",
    "%config InlineBackend.figure_formats = set(['retina'])\nimport matplotlib; matplotlib.rcParams['figure.figsize'] = (12, 7)",
    "-f",
    "{connection_file}"
   ],
   "display_name": "Python 3 (Ubuntu Linux)",
   "env": {
   },
   "language": "python",
   "name": "python3-ubuntu",
   "resource_dir": "/usr/local/share/jupyter/kernels/python3-ubuntu"
  },
  "language_info": {
   "codemirror_mode": {
    "name": "ipython",
    "version": 3
   },
   "file_extension": ".py",
   "mimetype": "text/x-python",
   "name": "python",
   "nbconvert_exporter": "python",
   "pygments_lexer": "ipython3",
   "version": "3.12.3"
  }
 },
 "nbformat": 4,
 "nbformat_minor": 4
}