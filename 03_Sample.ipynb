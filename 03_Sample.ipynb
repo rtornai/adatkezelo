{
  "cells": [
    {
      "cell_type": "markdown",
      "metadata": {
        "id": "view-in-github",
        "colab_type": "text"
      },
      "source": [
        "<a href=\"https://colab.research.google.com/github/rtornai/adatkezelo/blob/main/03_Sample.ipynb\" target=\"_parent\"><img src=\"https://colab.research.google.com/assets/colab-badge.svg\" alt=\"Open In Colab\"/></a>"
      ]
    },
    {
      "cell_type": "code",
      "metadata": {
        "ExecuteTime": {
          "end_time": "2024-09-23T19:08:29.913419Z",
          "start_time": "2024-09-23T19:08:29.909090Z"
        },
        "id": "KFWBmIqMjL0n",
        "outputId": "234ec0dd-d378-4f64-b14b-2deb4466d2cc",
        "colab": {
          "base_uri": "https://localhost:8080/"
        }
      },
      "source": [
        "!pip install faker faker_airtravel faker_vehicle"
      ],
      "outputs": [
        {
          "output_type": "stream",
          "name": "stdout",
          "text": [
            "Collecting faker\n",
            "  Downloading faker-37.8.0-py3-none-any.whl.metadata (15 kB)\n",
            "Collecting faker_airtravel\n",
            "  Downloading faker_airtravel-0.4-py2.py3-none-any.whl.metadata (2.5 kB)\n",
            "Collecting faker_vehicle\n",
            "  Downloading faker_vehicle-0.2.0-py2.py3-none-any.whl.metadata (4.0 kB)\n",
            "Requirement already satisfied: tzdata in /usr/local/lib/python3.12/dist-packages (from faker) (2025.2)\n",
            "Downloading faker-37.8.0-py3-none-any.whl (2.0 MB)\n",
            "\u001b[2K   \u001b[90m━━━━━━━━━━━━━━━━━━━━━━━━━━━━━━━━━━━━━━━━\u001b[0m \u001b[32m2.0/2.0 MB\u001b[0m \u001b[31m23.4 MB/s\u001b[0m eta \u001b[36m0:00:00\u001b[0m\n",
            "\u001b[?25hDownloading faker_airtravel-0.4-py2.py3-none-any.whl (18 kB)\n",
            "Downloading faker_vehicle-0.2.0-py2.py3-none-any.whl (162 kB)\n",
            "\u001b[2K   \u001b[90m━━━━━━━━━━━━━━━━━━━━━━━━━━━━━━━━━━━━━━━━\u001b[0m \u001b[32m162.4/162.4 kB\u001b[0m \u001b[31m12.7 MB/s\u001b[0m eta \u001b[36m0:00:00\u001b[0m\n",
            "\u001b[?25hInstalling collected packages: faker_airtravel, faker, faker_vehicle\n",
            "Successfully installed faker-37.8.0 faker_airtravel-0.4 faker_vehicle-0.2.0\n"
          ]
        }
      ],
      "execution_count": 4
    },
    {
      "cell_type": "code",
      "metadata": {
        "ExecuteTime": {
          "end_time": "2024-09-23T19:08:30.249034Z",
          "start_time": "2024-09-23T19:08:29.929497Z"
        },
        "id": "s5eD5ALCjL0o"
      },
      "source": [
        "import random\n",
        "from faker import Faker\n",
        "from typing import List"
      ],
      "outputs": [],
      "execution_count": 5
    },
    {
      "cell_type": "code",
      "metadata": {
        "ExecuteTime": {
          "end_time": "2024-09-23T19:08:30.734704Z",
          "start_time": "2024-09-23T19:08:30.728118Z"
        },
        "id": "7cFtVv-fjL0o"
      },
      "source": [
        "from dataclasses import dataclass, field\n",
        "\n",
        "\n",
        "@dataclass\n",
        "class Person:\n",
        "    id: str = field(hash=True)\n",
        "    name: str = field(repr=True, compare=False)\n",
        "    age: int = field(repr=True, compare=False)\n",
        "    male: bool = field(default=True, repr=True, compare=False)\n",
        "\n",
        "@dataclass\n",
        "class Car:\n",
        "    plate: str = field(hash=True)\n",
        "    type: str = field(repr=True, compare=False)\n",
        "    year: int = field(repr=True, compare=False)\n",
        "    automatic: bool = field(default=True, repr=True, compare=False)\n",
        "\n",
        "\n",
        "@dataclass\n",
        "class Airport:\n",
        "    code: str = field(hash=True)\n",
        "    name: str = field(repr=True, compare=False)\n",
        "    city: str = field(repr=True, compare=False)\n",
        "    state: str = field(repr=True, compare=False)\n",
        "    country: str = field(repr=True, compare=False)"
      ],
      "outputs": [],
      "execution_count": 6
    },
    {
      "cell_type": "markdown",
      "metadata": {
        "collapsed": false,
        "id": "Q8Vh_JoHjL0o"
      },
      "source": [
        "Here’s a quick breakdown of what each part does:\n",
        "\n",
        "id: str = field\\(hash=True\\): The id field is a string and is used for hashing.\n",
        "\n",
        "name: str = field\\(repr=True, compare=False\\): The name field is a string and will be included in the string representation of the object but won’t be used for comparison.\n",
        "\n",
        "age: int = field\\(repr=True, compare=False\\): The age field is an integer and will also be included in the string representation but not used for comparison.\n",
        "\n",
        "male: bool = field\\(default=True, repr=True, compare=False\\): The male field is a boolean with a default value of True, included in the string representation but not used for comparison."
      ]
    },
    {
      "cell_type": "markdown",
      "metadata": {
        "collapsed": false,
        "id": "WIfaWH5UjL0p"
      },
      "source": [
        "Definiálj egy generate_people() nevű függvényt a következők szerint:\n",
        "\n",
        "A függvény megkap egy n nevű, int típusú paramétert.\n",
        "A függvény egy olyan listát ad vissza, mely pontosan n darab, Person típusú elemet tartalmaz.\n",
        "Az id mező értéke egyedi minden objektum esetén.\n",
        "Az age mező értéke 18 és 100 közötti.\n",
        "A male tulajdonság értéke egyelőre az alapértelmezett érték. Definiálj egy generate\\_people\\(\\) nevű függvényt a következők szerint:\n",
        "\n",
        "* A függvény megkap egy n nevű, int típusú paramétert.\n",
        "* A függvény egy olyan listát ad vissza, mely pontosan n darab, Person típusú elemet tartalmaz.\n",
        "* Az id mező értéke egyedi minden objektum esetén.\n",
        "* Az age mező értéke 18 és 100 közötti.\n",
        "* A male tulajdonság értéke egyelőre az alapértelmezett érték.\n",
        "\n"
      ]
    },
    {
      "cell_type": "code",
      "metadata": {
        "ExecuteTime": {
          "end_time": "2024-09-23T19:08:30.749321Z",
          "start_time": "2024-09-23T19:08:30.745632Z"
        },
        "id": "9vWyYHGYjL0p"
      },
      "source": [
        "def generate_people(n: int) -> List[Person]:\n",
        "    fake = Faker()\n",
        "    return [Person(\n",
        "        \"P-\" + (str(i).zfill(6)),\n",
        "        fake.name(),\n",
        "        random.randint(18, 100),\n",
        "        True) for i in range(n)]"
      ],
      "outputs": [],
      "execution_count": 7
    },
    {
      "cell_type": "code",
      "metadata": {
        "ExecuteTime": {
          "end_time": "2024-09-23T19:08:30.946402Z",
          "start_time": "2024-09-23T19:08:30.762637Z"
        },
        "id": "LZ_tbIYbjL0p",
        "outputId": "b27d32f4-a0ae-4a94-fd11-e5464d065208",
        "colab": {
          "base_uri": "https://localhost:8080/"
        }
      },
      "source": [
        "print(generate_people(10))"
      ],
      "outputs": [
        {
          "output_type": "stream",
          "name": "stdout",
          "text": [
            "[Person(id='P-000000', name='Sherry Sullivan', age=76, male=False), Person(id='P-000001', name='Kevin Clarke', age=23, male=True), Person(id='P-000002', name='Michael Collins', age=66, male=True), Person(id='P-000003', name='Lindsey Maxwell', age=59, male=False), Person(id='P-000004', name='Michelle Woods', age=66, male=False), Person(id='P-000005', name='Julie Keller', age=29, male=False), Person(id='P-000006', name='John Gilbert', age=93, male=True), Person(id='P-000007', name='Rachel Whitaker', age=83, male=False), Person(id='P-000008', name='Nicholas Clark', age=55, male=True), Person(id='P-000009', name='Shawn Robinson', age=49, male=True)]\n"
          ]
        }
      ],
      "execution_count": 22
    },
    {
      "cell_type": "markdown",
      "metadata": {
        "collapsed": false,
        "id": "81JpFYscjL0q"
      },
      "source": [
        "Módosítsd a generate_people() nevű függvényt a következők szerint:\n",
        "\n",
        "A male tulajdonság értéke helyesen generálódik. Ehhez szükség szerint keressünk egy új Faker metódust.\n",
        "\n"
      ]
    },
    {
      "cell_type": "code",
      "metadata": {
        "ExecuteTime": {
          "end_time": "2024-09-23T19:08:31.016567Z",
          "start_time": "2024-09-23T19:08:30.962160Z"
        },
        "id": "RIBhzMWEjL0q",
        "outputId": "b99d0845-bd93-43dc-ca15-52a6d54d07a6",
        "colab": {
          "base_uri": "https://localhost:8080/"
        }
      },
      "source": [
        "def generate_people(n: int) -> List[Person]:\n",
        "    fake = Faker()\n",
        "    people = []\n",
        "\n",
        "    for i in range(n):\n",
        "        male = random.random() < 0.5\n",
        "        people.append(\n",
        "            Person(\"P-\" + (str(i).zfill(6)),\n",
        "            fake.name_male() if male else fake.name_female(),\n",
        "            random.randint(18, 100),\n",
        "            male))\n",
        "\n",
        "    return people\n",
        "\n",
        "print(generate_people(5))"
      ],
      "outputs": [
        {
          "output_type": "stream",
          "name": "stdout",
          "text": [
            "[Person(id='P-000000', name='Ashley Warren', age=51, male=False), Person(id='P-000001', name='Bobby Crosby', age=80, male=True), Person(id='P-000002', name='Mrs. Sandra Cole', age=38, male=False), Person(id='P-000003', name='Jackie Arroyo', age=24, male=False), Person(id='P-000004', name='Lauren Taylor', age=22, male=False)]\n"
          ]
        }
      ],
      "execution_count": 9
    },
    {
      "cell_type": "markdown",
      "metadata": {
        "collapsed": false,
        "id": "8rXn5FoTjL0q"
      },
      "source": [
        "Módosítsd a generate_people() nevű függvényt a következők szerint:\n",
        "\n",
        "* A függvény megkap egy male_ratio nevű, float típusú paramétert.\n",
        "* A paraméter alapértelmezett értéke 0.5.\n",
        "* A függvény az új paraméter értéke által jelzett valószínűséggel generál férfiakat."
      ]
    },
    {
      "cell_type": "code",
      "metadata": {
        "ExecuteTime": {
          "end_time": "2024-09-23T19:08:31.039661Z",
          "start_time": "2024-09-23T19:08:31.035209Z"
        },
        "id": "9TLkD5JMjL0q"
      },
      "source": [
        "def generate_people(n: int, male_ratio: float = 0.5) -> List[Person]:\n",
        "    fake = Faker()\n",
        "    people = []\n",
        "\n",
        "    for i in range(n):\n",
        "        male = random.random() < male_ratio\n",
        "        people.append(Person(\n",
        "            \"P-\" + (str(i).zfill(6)),\n",
        "            fake.name_male() if male else fake.name_female(),\n",
        "            random.randint(18, 100),\n",
        "            male))\n",
        "\n",
        "    return people\n",
        "\n",
        "#print(generate_people(5))"
      ],
      "outputs": [],
      "execution_count": 10
    },
    {
      "cell_type": "markdown",
      "metadata": {
        "collapsed": false,
        "id": "1DW4xuv-jL0q"
      },
      "source": [
        "Módosítsd a generate_people() nevű függvényt a következők szerint:\n",
        "\n",
        "* A függvény megkap egy locale nevű, str típusú paramétert.\n",
        "* A paraméter alapértelmezett értéke en_US.\n",
        "* A függvény az új paraméter értékének megfelelő területi beállítással generál neveket."
      ]
    },
    {
      "cell_type": "code",
      "metadata": {
        "ExecuteTime": {
          "end_time": "2024-09-23T19:08:31.069403Z",
          "start_time": "2024-09-23T19:08:31.064741Z"
        },
        "id": "PCXb5Xo9jL0q"
      },
      "source": [
        "def generate_people(n: int, male_ratio: float = 0.5, locale: str = \"en_US\") -> List[Person]:\n",
        "    fake = Faker(locale)\n",
        "    people = []\n",
        "\n",
        "    for i in range(n):\n",
        "        male = random.random() < male_ratio\n",
        "        people.append(Person(\n",
        "            \"P-\" + (str(i).zfill(6)),\n",
        "            fake.name_male() if male else fake.name_female(),\n",
        "            random.randint(18, 100),\n",
        "            male))\n",
        "\n",
        "    return people"
      ],
      "outputs": [],
      "execution_count": 11
    },
    {
      "cell_type": "markdown",
      "metadata": {
        "collapsed": false,
        "id": "fEejNvyHjL0q"
      },
      "source": [
        "Módosítsd a generate_people() nevű függvényt a következők szerint:\n",
        "\n",
        "* A függvény megkap egy unique nevű, bool típusú paramétert.\n",
        "* A paraméter alapértelmezett értéke False.\n",
        "* A függvény az új paraméter True értéke esetén csupa különböző személynevet generál."
      ]
    },
    {
      "cell_type": "code",
      "metadata": {
        "ExecuteTime": {
          "end_time": "2024-09-23T19:08:31.081374Z",
          "start_time": "2024-09-23T19:08:31.076358Z"
        },
        "id": "PvXGp8AejL0r"
      },
      "source": [
        "def generate_people(n: int, male_ratio: float = 0.5, locale: str = \"en_US\", unique: bool = False) -> List[Person]:\n",
        "    fake = Faker(locale)\n",
        "    people = []\n",
        "\n",
        "    for i in range(n):\n",
        "        male = random.random() < male_ratio\n",
        "        generator = fake if not unique else fake.unique\n",
        "        people.append(Person(\n",
        "            \"P-\" + (str(i).zfill(6)),\n",
        "            generator.name_male() if male else generator.name_female(),\n",
        "            random.randint(18, 100),\n",
        "            male))\n",
        "\n",
        "    return people"
      ],
      "outputs": [],
      "execution_count": 12
    },
    {
      "cell_type": "markdown",
      "metadata": {
        "collapsed": false,
        "id": "rPiCW1QdjL0r"
      },
      "source": [
        "Módosítsd a generate_people() nevű függvényt a következők szerint:\n",
        "\n",
        "* A függvény megkap egy min_age nevű, int típusú paramétert.\n",
        "* A paraméter alapértelmezett értéke 0.\n",
        "* A függvény úgy generálja a személyek életkorát, hogy azok nem kisebbek az új paraméter értékénél."
      ]
    },
    {
      "cell_type": "code",
      "metadata": {
        "ExecuteTime": {
          "end_time": "2024-09-23T19:08:31.092876Z",
          "start_time": "2024-09-23T19:08:31.088337Z"
        },
        "id": "h2sDIIULjL0r"
      },
      "source": [
        "def generate_people(n: int, male_ratio: float = 0.5, locale: str = \"en_US\",\n",
        "                unique: bool = False, min_age: int = 0) -> List[Person]:\n",
        "    fake = Faker(locale)\n",
        "    people = []\n",
        "\n",
        "    for i in range(n):\n",
        "        male = random.random() < male_ratio\n",
        "        generator = fake if not unique else fake.unique\n",
        "        people.append(Person(\n",
        "            \"P-\" + (str(i).zfill(6)),\n",
        "            generator.name_male() if male else generator.name_female(),\n",
        "            random.randint(min_age, 100),\n",
        "            male))\n",
        "\n",
        "    return people"
      ],
      "outputs": [],
      "execution_count": 13
    },
    {
      "cell_type": "markdown",
      "metadata": {
        "collapsed": false,
        "id": "5igbvjfZjL0r"
      },
      "source": [
        "Módosítsd a generate_people() nevű függvényt a következők szerint:\n",
        "\n",
        "* A függvény megkap egy max_age nevű, int típusú paramétert.\n",
        "* A paraméter alapértelmezett értéke 100.\n",
        "* A függvény úgy generálja a személyek életkorát, hogy azok nem nagyobbak az új paraméter értékénél."
      ]
    },
    {
      "cell_type": "code",
      "metadata": {
        "ExecuteTime": {
          "end_time": "2024-09-23T19:08:31.108698Z",
          "start_time": "2024-09-23T19:08:31.099492Z"
        },
        "id": "DLrKolN_jL0r"
      },
      "source": [
        "def generate_people(n: int, male_ratio: float = 0.5, locale: str = \"en_US\",\n",
        "                unique: bool = False, min_age: int = 0, max_age: int = 100) -> List[Person]:\n",
        "    fake = Faker(locale)\n",
        "    people = []\n",
        "\n",
        "    for i in range(n):\n",
        "        male = random.random() < male_ratio\n",
        "        generator = fake if not unique else fake.unique\n",
        "        people.append(Person(\n",
        "            \"P-\" + (str(i).zfill(6)),\n",
        "            generator.name_male() if male else generator.name_female(),\n",
        "            random.randint(min_age, max_age + 1),\n",
        "            male))\n",
        "\n",
        "    return people"
      ],
      "outputs": [],
      "execution_count": 14
    },
    {
      "cell_type": "markdown",
      "metadata": {
        "collapsed": false,
        "id": "3ILN5m4LjL0r"
      },
      "source": [
        "Módosítsd a generate_people() nevű függvényt a következők szerint:\n",
        "\n",
        "* A függvény csak akkor fut le, ha az n paraméter értéke pozitív.\n",
        "* A függvény csak akkor fut le, ha a male_ratio egy helyes valószínűségi érték.\n",
        "* A függvény csak akkor fut le, ha a min_age paraméter értéke nemnegatív."
      ]
    },
    {
      "cell_type": "code",
      "metadata": {
        "ExecuteTime": {
          "end_time": "2024-09-23T19:08:31.119920Z",
          "start_time": "2024-09-23T19:08:31.115273Z"
        },
        "id": "nrMYJ1HejL0r"
      },
      "source": [
        "def generate_people(n: int, male_ratio: float = 0.5, locale: str = \"en_US\",\n",
        "                    unique: bool = False, min_age: int = 0, max_age: int = 100) -> List[Person]:\n",
        "    assert n > 0\n",
        "    assert 0 < male_ratio < 1\n",
        "    assert min_age >= 0\n",
        "\n",
        "    fake = Faker(locale)\n",
        "    people = []\n",
        "\n",
        "    for i in range(n):\n",
        "        male = random.random() < male_ratio\n",
        "        generator = fake if not unique else fake.unique\n",
        "        people.append(Person(\n",
        "            \"P-\" + (str(i).zfill(6)),\n",
        "            generator.name_male() if male else generator.name_female(),\n",
        "            random.randint(min_age, max_age + 1),\n",
        "            male))\n",
        "\n",
        "    return people"
      ],
      "outputs": [],
      "execution_count": 15
    },
    {
      "cell_type": "code",
      "metadata": {
        "ExecuteTime": {
          "end_time": "2024-09-23T19:11:49.301448Z",
          "start_time": "2024-09-23T19:11:49.197435Z"
        },
        "id": "aJz5ZsCKjL0r",
        "outputId": "6a5cbfe3-1980-465f-fdfe-b5510bf101b7",
        "colab": {
          "base_uri": "https://localhost:8080/"
        }
      },
      "source": [
        "print(generate_people(5))\n",
        "print(generate_people(n=5, locale=\"HU\"))"
      ],
      "outputs": [
        {
          "output_type": "stream",
          "name": "stdout",
          "text": [
            "[Person(id='P-000000', name='Matthew Chen', age=18, male=True), Person(id='P-000001', name='Brandon Fernandez', age=33, male=True), Person(id='P-000002', name='Amy Miranda', age=79, male=False), Person(id='P-000003', name='Monica Macdonald', age=8, male=False), Person(id='P-000004', name='Andrew Matthews', age=23, male=True)]\n",
            "[Person(id='P-000000', name='Szalainé Dr. Sipos Krisztina Fanni', age=60, male=False), Person(id='P-000001', name='Dr. M. Kovács Mária', age=29, male=False), Person(id='P-000002', name='M. Mészáros István', age=83, male=True), Person(id='P-000003', name='Dr. Kovács A. Zsolt', age=80, male=True), Person(id='P-000004', name='Balogh Olivér', age=1, male=True)]\n"
          ]
        }
      ],
      "execution_count": 16
    },
    {
      "cell_type": "code",
      "metadata": {
        "ExecuteTime": {
          "end_time": "2024-09-23T19:08:31.364460Z",
          "start_time": "2024-09-23T19:08:31.306457Z"
        },
        "id": "WkO-WZbKjL0r"
      },
      "source": [
        "from faker_airtravel import AirTravelProvider\n",
        "from faker_vehicle import VehicleProvider"
      ],
      "outputs": [],
      "execution_count": 17
    },
    {
      "cell_type": "code",
      "metadata": {
        "ExecuteTime": {
          "end_time": "2024-09-23T19:13:32.732491Z",
          "start_time": "2024-09-23T19:13:32.625685Z"
        },
        "id": "6PUebkgBjL0r",
        "outputId": "88de3c81-1778-481a-da74-4b94786907ba",
        "colab": {
          "base_uri": "https://localhost:8080/"
        }
      },
      "source": [
        "def generate_cars(n: int, automatic_ratio: float = 0.2, locale: str = \"hu_HU\", unique: bool = False,\n",
        "                  min_year: int = 1950, max_year: int = 2021) -> List[Car]:\n",
        "    assert n > 0\n",
        "    assert 0 < automatic_ratio < 1\n",
        "    assert 1950 <= min_year\n",
        "    assert min_year <= max_year <= 2021\n",
        "\n",
        "    fake_plate = Faker(locale)\n",
        "    fake_plate.add_provider(VehicleProvider)\n",
        "    if unique:\n",
        "        fake_plate = fake_plate.unique\n",
        "    fake_type = Faker()\n",
        "    fake_type.add_provider(VehicleProvider)\n",
        "\n",
        "    cars = []\n",
        "    for i in range(n):\n",
        "        automatic = random.random() < automatic_ratio\n",
        "        cars.append(Car(\n",
        "            fake_plate.license_plate(),\n",
        "            fake_type.vehicle_make(),\n",
        "            random.randint(min_year, max_year),\n",
        "            automatic))\n",
        "\n",
        "    return cars\n",
        "\n",
        "print(generate_cars(5))"
      ],
      "outputs": [
        {
          "output_type": "stream",
          "name": "stdout",
          "text": [
            "[Car(plate='VQE-764', type='Mercury', year=1998, automatic=False), Car(plate='EQC-311', type='MINI', year=1973, automatic=False), Car(plate='FRH-906', type='Mitsubishi', year=2010, automatic=True), Car(plate='MCI-176', type='Porsche', year=1955, automatic=False), Car(plate='TZL-497', type='MINI', year=1993, automatic=False)]\n"
          ]
        }
      ],
      "execution_count": 18
    },
    {
      "cell_type": "code",
      "metadata": {
        "ExecuteTime": {
          "end_time": "2024-09-23T19:08:31.437627Z",
          "start_time": "2024-09-23T19:08:31.382434Z"
        },
        "id": "PnFfF0G5jL0s",
        "outputId": "2d07b932-903d-4c63-a3db-58c051296235",
        "colab": {
          "base_uri": "https://localhost:8080/"
        }
      },
      "source": [
        "def generate_airports(n: int, country: str = None, city: str = None,\n",
        "                      unique: bool = False, attempts: int = None) -> List[Airport]:\n",
        "    assert n > 0\n",
        "    assert attempts is None or attempts >= n\n",
        "\n",
        "    fake = Faker()\n",
        "    fake.add_provider(AirTravelProvider)\n",
        "\n",
        "    airports = []\n",
        "    for i in range(n if attempts is None else attempts):\n",
        "        values = fake.airport_object()\n",
        "\n",
        "        actual = Airport(\n",
        "            values[\"icao\"],\n",
        "            values[\"airport\"],\n",
        "            values[\"city\"],\n",
        "            values[\"state\"],\n",
        "            values[\"country\"])\n",
        "\n",
        "        if len(actual.code) == 0:\n",
        "            continue\n",
        "        if country is not None and country != actual.country:\n",
        "            continue\n",
        "        if city is not None and city != actual.city:\n",
        "            continue\n",
        "        if unique and actual in airports:\n",
        "            continue\n",
        "\n",
        "        airports.append(actual)\n",
        "\n",
        "    return airports\n",
        "\n",
        "print(generate_airports(5))"
      ],
      "outputs": [
        {
          "output_type": "stream",
          "name": "stdout",
          "text": [
            "[Airport(code='EGPF', name='Glasgow International airport', city='Paisley', state='Scotland', country='United Kingdom'), Airport(code='LEIB', name='Ibiza airport', city='San José', state='Balearic Islands', country='Spain'), Airport(code='KPRG', name='Prague Ruzyne airport', city='Prague 6', state='Hlavni mesto Praha', country='Czech Republic'), Airport(code='EGPH', name='Edinburgh International airport', city='Edinburgh', state='Scotland', country='United Kingdom')]\n"
          ]
        }
      ],
      "execution_count": 19
    }
  ],
  "metadata": {
    "kernelspec": {
      "argv": [
        "/usr/bin/python3",
        "-m",
        "ipykernel",
        "--matplotlib=inline",
        "-c",
        "%config InlineBackend.figure_formats = set(['retina'])\nimport matplotlib; matplotlib.rcParams['figure.figsize'] = (12, 7)",
        "-f",
        "{connection_file}"
      ],
      "display_name": "Python 3 (ipykernel)",
      "env": {},
      "language": "python",
      "name": "python3",
      "resource_dir": "/usr/local/share/jupyter/kernels/python3-ubuntu"
    },
    "language_info": {
      "codemirror_mode": {
        "name": "ipython",
        "version": 3
      },
      "file_extension": ".py",
      "mimetype": "text/x-python",
      "name": "python",
      "nbconvert_exporter": "python",
      "pygments_lexer": "ipython3",
      "version": "3.12.3"
    },
    "colab": {
      "provenance": [],
      "include_colab_link": true
    }
  },
  "nbformat": 4,
  "nbformat_minor": 0
}