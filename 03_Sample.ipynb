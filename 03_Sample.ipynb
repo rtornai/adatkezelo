{
 "cells": [
  {
   "cell_type": "code",
   "metadata": {
    "collapsed": false,
    "ExecuteTime": {
     "end_time": "2024-09-23T19:08:29.913419Z",
     "start_time": "2024-09-23T19:08:29.909090Z"
    }
   },
   "source": [
    "#!pip install faker faker_airtravel faker_vehicle"
   ],
   "outputs": [],
   "execution_count": 1
  },
  {
   "cell_type": "code",
   "metadata": {
    "collapsed": false,
    "ExecuteTime": {
     "end_time": "2024-09-23T19:08:30.249034Z",
     "start_time": "2024-09-23T19:08:29.929497Z"
    }
   },
   "source": [
    "import random\n",
    "from faker import Faker\n",
    "from typing import List"
   ],
   "outputs": [],
   "execution_count": 2
  },
  {
   "cell_type": "code",
   "metadata": {
    "collapsed": false,
    "ExecuteTime": {
     "end_time": "2024-09-23T19:08:30.734704Z",
     "start_time": "2024-09-23T19:08:30.728118Z"
    }
   },
   "source": [
    "from dataclasses import dataclass, field\n",
    "\n",
    "\n",
    "@dataclass\n",
    "class Person:\n",
    "    id: str = field(hash=True)\n",
    "    name: str = field(repr=True, compare=False)\n",
    "    age: int = field(repr=True, compare=False)\n",
    "    male: bool = field(default=True, repr=True, compare=False)\n",
    "    \n",
    "@dataclass\n",
    "class Car:\n",
    "    plate: str = field(hash=True)\n",
    "    type: str = field(repr=True, compare=False)\n",
    "    year: int = field(repr=True, compare=False)\n",
    "    automatic: bool = field(default=True, repr=True, compare=False)\n",
    "\n",
    "\n",
    "@dataclass\n",
    "class Airport:\n",
    "    code: str = field(hash=True)\n",
    "    name: str = field(repr=True, compare=False)\n",
    "    city: str = field(repr=True, compare=False)\n",
    "    state: str = field(repr=True, compare=False)\n",
    "    country: str = field(repr=True, compare=False)"
   ],
   "outputs": [],
   "execution_count": 3
  },
  {
   "cell_type": "markdown",
   "metadata": {
    "collapsed": false
   },
   "source": [
    "Here’s a quick breakdown of what each part does:\n",
    "\n",
    "id: str = field\\(hash=True\\): The id field is a string and is used for hashing.\n",
    "\n",
    "name: str = field\\(repr=True, compare=False\\): The name field is a string and will be included in the string representation of the object but won’t be used for comparison.\n",
    "\n",
    "age: int = field\\(repr=True, compare=False\\): The age field is an integer and will also be included in the string representation but not used for comparison.\n",
    "\n",
    "male: bool = field\\(default=True, repr=True, compare=False\\): The male field is a boolean with a default value of True, included in the string representation but not used for comparison."
   ]
  },
  {
   "cell_type": "markdown",
   "metadata": {
    "collapsed": false
   },
   "source": [
    "Definiálj egy generate_people() nevű függvényt a következők szerint:\n",
    "\n",
    "A függvény megkap egy n nevű, int típusú paramétert.\n",
    "A függvény egy olyan listát ad vissza, mely pontosan n darab, Person típusú elemet tartalmaz.\n",
    "Az id mező értéke egyedi minden objektum esetén.\n",
    "Az age mező értéke 18 és 100 közötti.\n",
    "A male tulajdonság értéke egyelőre az alapértelmezett érték. Definiálj egy generate\\_people\\(\\) nevű függvényt a következők szerint:\n",
    "\n",
    "* A függvény megkap egy n nevű, int típusú paramétert.\n",
    "* A függvény egy olyan listát ad vissza, mely pontosan n darab, Person típusú elemet tartalmaz.\n",
    "* Az id mező értéke egyedi minden objektum esetén.\n",
    "* Az age mező értéke 18 és 100 közötti.\n",
    "* A male tulajdonság értéke egyelőre az alapértelmezett érték.\n",
    "\n"
   ]
  },
  {
   "cell_type": "code",
   "metadata": {
    "collapsed": false,
    "ExecuteTime": {
     "end_time": "2024-09-23T19:08:30.749321Z",
     "start_time": "2024-09-23T19:08:30.745632Z"
    }
   },
   "source": [
    "def generate_people(n: int) -> List[Person]:\n",
    "    fake = Faker()\n",
    "    return [Person(\n",
    "        \"P-\" + (str(i).zfill(6)),\n",
    "        fake.name(),\n",
    "        random.randint(18, 100),\n",
    "        True) for i in range(n)]"
   ],
   "outputs": [],
   "execution_count": 4
  },
  {
   "cell_type": "code",
   "metadata": {
    "collapsed": false,
    "ExecuteTime": {
     "end_time": "2024-09-23T19:08:30.946402Z",
     "start_time": "2024-09-23T19:08:30.762637Z"
    }
   },
   "source": [
    "print(generate_people(10))"
   ],
   "outputs": [
    {
     "name": "stdout",
     "output_type": "stream",
     "text": [
      "[Person(id='P-000000', name='Christian Richardson', age=47, male=True), Person(id='P-000001', name='Madeline Rivera', age=32, male=True), Person(id='P-000002', name='Joann Mcmillan', age=36, male=True), Person(id='P-000003', name='Stacey Hopkins', age=30, male=True), Person(id='P-000004', name='Ralph Elliott', age=56, male=True), Person(id='P-000005', name='John Ramos', age=48, male=True), Person(id='P-000006', name='Jorge Lee', age=38, male=True), Person(id='P-000007', name='Christina Lane', age=66, male=True), Person(id='P-000008', name='Sheri Robinson', age=71, male=True), Person(id='P-000009', name='David Love', age=20, male=True)]\n"
     ]
    }
   ],
   "execution_count": 5
  },
  {
   "cell_type": "markdown",
   "metadata": {
    "collapsed": false
   },
   "source": [
    "Módosítsd a generate_people() nevű függvényt a következők szerint:\n",
    "\n",
    "A male tulajdonság értéke helyesen generálódik. Ehhez szükség szerint keressünk egy új Faker metódust.\n",
    "\n"
   ]
  },
  {
   "cell_type": "code",
   "metadata": {
    "collapsed": false,
    "ExecuteTime": {
     "end_time": "2024-09-23T19:08:31.016567Z",
     "start_time": "2024-09-23T19:08:30.962160Z"
    }
   },
   "source": [
    "def generate_people(n: int) -> List[Person]:\n",
    "    fake = Faker()\n",
    "    people = []\n",
    "\n",
    "    for i in range(n):\n",
    "        male = random.random() < 0.5\n",
    "        people.append(\n",
    "            Person(\"P-\" + (str(i).zfill(6)),\n",
    "            fake.name_male() if male else fake.name_female(),\n",
    "            random.randint(18, 100),\n",
    "            male))\n",
    "\n",
    "    return people\n",
    "\n",
    "print(generate_people(5))"
   ],
   "outputs": [
    {
     "name": "stdout",
     "output_type": "stream",
     "text": [
      "[Person(id='P-000000', name='Cassandra Salas', age=96, male=False), Person(id='P-000001', name='Marie Mccarthy', age=25, male=False), Person(id='P-000002', name='Joshua Brady', age=97, male=True), Person(id='P-000003', name='Anthony Collins', age=56, male=True), Person(id='P-000004', name='Lauren Griffith', age=100, male=False)]\n"
     ]
    }
   ],
   "execution_count": 6
  },
  {
   "cell_type": "markdown",
   "metadata": {
    "collapsed": false
   },
   "source": [
    "Módosítsd a generate_people() nevű függvényt a következők szerint:\n",
    "\n",
    "* A függvény megkap egy male_ratio nevű, float típusú paramétert.\n",
    "* A paraméter alapértelmezett értéke 0.5.\n",
    "* A függvény az új paraméter értéke által jelzett valószínűséggel generál férfiakat."
   ]
  },
  {
   "cell_type": "code",
   "metadata": {
    "collapsed": false,
    "ExecuteTime": {
     "end_time": "2024-09-23T19:08:31.039661Z",
     "start_time": "2024-09-23T19:08:31.035209Z"
    }
   },
   "source": [
    "def generate_people(n: int, male_ratio: float = 0.5) -> List[Person]:\n",
    "    fake = Faker()\n",
    "    people = []\n",
    "\n",
    "    for i in range(n):\n",
    "        male = random.random() < male_ratio\n",
    "        people.append(Person(\n",
    "            \"P-\" + (str(i).zfill(6)),\n",
    "            fake.name_male() if male else fake.name_female(),\n",
    "            random.randint(18, 100),\n",
    "            male))\n",
    "\n",
    "    return people\n",
    "\n",
    "#print(generate_people(5))"
   ],
   "outputs": [],
   "execution_count": 7
  },
  {
   "cell_type": "markdown",
   "metadata": {
    "collapsed": false
   },
   "source": [
    "Módosítsd a generate_people() nevű függvényt a következők szerint:\n",
    "\n",
    "* A függvény megkap egy locale nevű, str típusú paramétert.\n",
    "* A paraméter alapértelmezett értéke en_US.\n",
    "* A függvény az új paraméter értékének megfelelő területi beállítással generál neveket."
   ]
  },
  {
   "cell_type": "code",
   "metadata": {
    "collapsed": false,
    "ExecuteTime": {
     "end_time": "2024-09-23T19:08:31.069403Z",
     "start_time": "2024-09-23T19:08:31.064741Z"
    }
   },
   "source": [
    "def generate_people(n: int, male_ratio: float = 0.5, locale: str = \"en_US\") -> List[Person]:\n",
    "    fake = Faker(locale)\n",
    "    people = []\n",
    "\n",
    "    for i in range(n):\n",
    "        male = random.random() < male_ratio\n",
    "        people.append(Person(\n",
    "            \"P-\" + (str(i).zfill(6)),\n",
    "            fake.name_male() if male else fake.name_female(),\n",
    "            random.randint(18, 100),\n",
    "            male))\n",
    "\n",
    "    return people"
   ],
   "outputs": [],
   "execution_count": 8
  },
  {
   "cell_type": "markdown",
   "metadata": {
    "collapsed": false
   },
   "source": [
    "Módosítsd a generate_people() nevű függvényt a következők szerint:\n",
    "\n",
    "* A függvény megkap egy unique nevű, bool típusú paramétert.\n",
    "* A paraméter alapértelmezett értéke False.\n",
    "* A függvény az új paraméter True értéke esetén csupa különböző személynevet generál."
   ]
  },
  {
   "cell_type": "code",
   "metadata": {
    "collapsed": false,
    "ExecuteTime": {
     "end_time": "2024-09-23T19:08:31.081374Z",
     "start_time": "2024-09-23T19:08:31.076358Z"
    }
   },
   "source": [
    "def generate_people(n: int, male_ratio: float = 0.5, locale: str = \"en_US\", unique: bool = False) -> List[Person]:\n",
    "    fake = Faker(locale)\n",
    "    people = []\n",
    "\n",
    "    for i in range(n):\n",
    "        male = random.random() < male_ratio\n",
    "        generator = fake if not unique else fake.unique\n",
    "        people.append(Person(\n",
    "            \"P-\" + (str(i).zfill(6)),\n",
    "            generator.name_male() if male else generator.name_female(),\n",
    "            random.randint(18, 100),\n",
    "            male))\n",
    "\n",
    "    return people"
   ],
   "outputs": [],
   "execution_count": 9
  },
  {
   "cell_type": "markdown",
   "metadata": {
    "collapsed": false
   },
   "source": [
    "Módosítsd a generate_people() nevű függvényt a következők szerint:\n",
    "\n",
    "* A függvény megkap egy min_age nevű, int típusú paramétert.\n",
    "* A paraméter alapértelmezett értéke 0.\n",
    "* A függvény úgy generálja a személyek életkorát, hogy azok nem kisebbek az új paraméter értékénél."
   ]
  },
  {
   "cell_type": "code",
   "metadata": {
    "collapsed": false,
    "ExecuteTime": {
     "end_time": "2024-09-23T19:08:31.092876Z",
     "start_time": "2024-09-23T19:08:31.088337Z"
    }
   },
   "source": [
    "def generate_people(n: int, male_ratio: float = 0.5, locale: str = \"en_US\",\n",
    "                unique: bool = False, min_age: int = 0) -> List[Person]:\n",
    "    fake = Faker(locale)\n",
    "    people = []\n",
    "\n",
    "    for i in range(n):\n",
    "        male = random.random() < male_ratio\n",
    "        generator = fake if not unique else fake.unique\n",
    "        people.append(Person(\n",
    "            \"P-\" + (str(i).zfill(6)),\n",
    "            generator.name_male() if male else generator.name_female(),\n",
    "            random.randint(min_age, 100),\n",
    "            male))\n",
    "\n",
    "    return people"
   ],
   "outputs": [],
   "execution_count": 10
  },
  {
   "cell_type": "markdown",
   "metadata": {
    "collapsed": false
   },
   "source": [
    "Módosítsd a generate_people() nevű függvényt a következők szerint:\n",
    "\n",
    "* A függvény megkap egy max_age nevű, int típusú paramétert.\n",
    "* A paraméter alapértelmezett értéke 100.\n",
    "* A függvény úgy generálja a személyek életkorát, hogy azok nem nagyobbak az új paraméter értékénél."
   ]
  },
  {
   "cell_type": "code",
   "metadata": {
    "collapsed": false,
    "ExecuteTime": {
     "end_time": "2024-09-23T19:08:31.108698Z",
     "start_time": "2024-09-23T19:08:31.099492Z"
    }
   },
   "source": [
    "def generate_people(n: int, male_ratio: float = 0.5, locale: str = \"en_US\",\n",
    "                unique: bool = False, min_age: int = 0, max_age: int = 100) -> List[Person]:\n",
    "    fake = Faker(locale)\n",
    "    people = []\n",
    "\n",
    "    for i in range(n):\n",
    "        male = random.random() < male_ratio\n",
    "        generator = fake if not unique else fake.unique\n",
    "        people.append(Person(\n",
    "            \"P-\" + (str(i).zfill(6)),\n",
    "            generator.name_male() if male else generator.name_female(),\n",
    "            random.randint(min_age, max_age + 1),\n",
    "            male))\n",
    "\n",
    "    return people"
   ],
   "outputs": [],
   "execution_count": 11
  },
  {
   "cell_type": "markdown",
   "metadata": {
    "collapsed": false
   },
   "source": [
    "Módosítsd a generate_people() nevű függvényt a következők szerint:\n",
    "\n",
    "* A függvény csak akkor fut le, ha az n paraméter értéke pozitív.\n",
    "* A függvény csak akkor fut le, ha a male_ratio egy helyes valószínűségi érték.\n",
    "* A függvény csak akkor fut le, ha a min_age paraméter értéke nemnegatív."
   ]
  },
  {
   "cell_type": "code",
   "metadata": {
    "collapsed": false,
    "ExecuteTime": {
     "end_time": "2024-09-23T19:08:31.119920Z",
     "start_time": "2024-09-23T19:08:31.115273Z"
    }
   },
   "source": [
    "def generate_people(n: int, male_ratio: float = 0.5, locale: str = \"en_US\",\n",
    "                    unique: bool = False, min_age: int = 0, max_age: int = 100) -> List[Person]:\n",
    "    assert n > 0\n",
    "    assert 0 < male_ratio < 1\n",
    "    assert min_age >= 0\n",
    "\n",
    "    fake = Faker(locale)\n",
    "    people = []\n",
    "\n",
    "    for i in range(n):\n",
    "        male = random.random() < male_ratio\n",
    "        generator = fake if not unique else fake.unique\n",
    "        people.append(Person(\n",
    "            \"P-\" + (str(i).zfill(6)),\n",
    "            generator.name_male() if male else generator.name_female(),\n",
    "            random.randint(min_age, max_age + 1),\n",
    "            male))\n",
    "\n",
    "    return people"
   ],
   "outputs": [],
   "execution_count": 12
  },
  {
   "cell_type": "code",
   "metadata": {
    "collapsed": false,
    "ExecuteTime": {
     "end_time": "2024-09-23T19:11:49.301448Z",
     "start_time": "2024-09-23T19:11:49.197435Z"
    }
   },
   "source": [
    "print(generate_people(5))\n",
    "print(generate_people(n=5, locale=\"HU\"))"
   ],
   "outputs": [
    {
     "name": "stdout",
     "output_type": "stream",
     "text": [
      "[Person(id='P-000000', name='William Thompson', age=48, male=True), Person(id='P-000001', name='Chelsey Hardin', age=33, male=False), Person(id='P-000002', name='William Robbins', age=28, male=True), Person(id='P-000003', name='Jonathan Peck', age=45, male=True), Person(id='P-000004', name='Jacob Mcdonald', age=31, male=True)]\n",
      "[Person(id='P-000000', name='Hegedüs Péterné', age=55, male=False), Person(id='P-000001', name='Dr. G. Lukács Sándor', age=53, male=True), Person(id='P-000002', name='Nagy Györgyné Gál Tünde', age=19, male=False), Person(id='P-000003', name='Dr. Bálint J. György', age=7, male=True), Person(id='P-000004', name='Kovács Csabané Szabó Ilona', age=15, male=False)]\n"
     ]
    }
   ],
   "execution_count": 17
  },
  {
   "cell_type": "code",
   "metadata": {
    "collapsed": false,
    "ExecuteTime": {
     "end_time": "2024-09-23T19:08:31.364460Z",
     "start_time": "2024-09-23T19:08:31.306457Z"
    }
   },
   "source": [
    "from faker_airtravel import AirTravelProvider\n",
    "from faker_vehicle import VehicleProvider"
   ],
   "outputs": [],
   "execution_count": 14
  },
  {
   "cell_type": "code",
   "metadata": {
    "collapsed": false,
    "ExecuteTime": {
     "end_time": "2024-09-23T19:13:32.732491Z",
     "start_time": "2024-09-23T19:13:32.625685Z"
    }
   },
   "source": [
    "def generate_cars(n: int, automatic_ratio: float = 0.2, locale: str = \"hu_HU\", unique: bool = False,\n",
    "                  min_year: int = 1950, max_year: int = 2021) -> List[Car]:\n",
    "    assert n > 0\n",
    "    assert 0 < automatic_ratio < 1\n",
    "    assert 1950 <= min_year\n",
    "    assert min_year <= max_year <= 2021\n",
    "\n",
    "    fake_plate = Faker(locale)\n",
    "    fake_plate.add_provider(VehicleProvider)\n",
    "    if unique:\n",
    "        fake_plate = fake_plate.unique\n",
    "    fake_type = Faker()\n",
    "    fake_type.add_provider(VehicleProvider)\n",
    "\n",
    "    cars = []\n",
    "    for i in range(n):\n",
    "        automatic = random.random() < automatic_ratio\n",
    "        cars.append(Car(\n",
    "            fake_plate.license_plate(),\n",
    "            fake_type.vehicle_make(),\n",
    "            random.randint(min_year, max_year),\n",
    "            automatic))\n",
    "\n",
    "    return cars\n",
    "\n",
    "print(generate_cars(5))"
   ],
   "outputs": [
    {
     "name": "stdout",
     "output_type": "stream",
     "text": [
      "[Car(plate='WXW-953', type='Volvo', year=2012, automatic=True), Car(plate='ZAK-331', type='Chrysler', year=1998, automatic=False), Car(plate='TMB-711', type='Ford', year=1965, automatic=False), Car(plate='BAO-198', type='Honda', year=2013, automatic=False), Car(plate='SKC-240', type='Ram', year=1950, automatic=False)]\n"
     ]
    }
   ],
   "execution_count": 18
  },
  {
   "cell_type": "code",
   "metadata": {
    "collapsed": false,
    "ExecuteTime": {
     "end_time": "2024-09-23T19:08:31.437627Z",
     "start_time": "2024-09-23T19:08:31.382434Z"
    }
   },
   "source": [
    "def generate_airports(n: int, country: str = None, city: str = None,\n",
    "                      unique: bool = False, attempts: int = None) -> List[Airport]:\n",
    "    assert n > 0\n",
    "    assert attempts is None or attempts >= n\n",
    "\n",
    "    fake = Faker()\n",
    "    fake.add_provider(AirTravelProvider)\n",
    "\n",
    "    airports = []\n",
    "    for i in range(n if attempts is None else attempts):\n",
    "        values = fake.airport_object()\n",
    "\n",
    "        actual = Airport(\n",
    "            values[\"icao\"],\n",
    "            values[\"airport\"],\n",
    "            values[\"city\"],\n",
    "            values[\"state\"],\n",
    "            values[\"country\"])\n",
    "\n",
    "        if len(actual.code) == 0:\n",
    "            continue\n",
    "        if country is not None and country != actual.country:\n",
    "            continue\n",
    "        if city is not None and city != actual.city:\n",
    "            continue\n",
    "        if unique and actual in airports:\n",
    "            continue\n",
    "\n",
    "        airports.append(actual)\n",
    "\n",
    "    return airports\n",
    "\n",
    "print(generate_airports(5))"
   ],
   "outputs": [
    {
     "name": "stdout",
     "output_type": "stream",
     "text": [
      "[Airport(code='SCTC', name='Maquehue airport', city='Padre Las Casas', state='Araucania', country='Chile'), Airport(code='KPHL', name='Philadelphia International airport', city='Philadelphia', state='Pennsylvania', country='United states'), Airport(code='SBNT', name='Augusto Severo International airport', city='Natal', state='Rio Grande do Norte', country='Brazil'), Airport(code='VOBG', name='HAL Bangalore International airport', city='Bangalore', state='Karnataka', country='India'), Airport(code='EDDM', name='Franz-Josef-Strauss airport', city='Oberding', state='Bavaria', country='Germany')]\n"
     ]
    }
   ],
   "execution_count": 16
  }
 ],
 "metadata": {
  "kernelspec": {
   "argv": [
    "/usr/bin/python3",
    "-m",
    "ipykernel",
    "--matplotlib=inline",
    "-c",
    "%config InlineBackend.figure_formats = set(['retina'])\nimport matplotlib; matplotlib.rcParams['figure.figsize'] = (12, 7)",
    "-f",
    "{connection_file}"
   ],
   "display_name": "Python 3 (ipykernel)",
   "env": {},
   "language": "python",
   "name": "python3",
   "resource_dir": "/usr/local/share/jupyter/kernels/python3-ubuntu"
  },
  "language_info": {
   "codemirror_mode": {
    "name": "ipython",
    "version": 3
   },
   "file_extension": ".py",
   "mimetype": "text/x-python",
   "name": "python",
   "nbconvert_exporter": "python",
   "pygments_lexer": "ipython3",
   "version": "3.12.3"
  }
 },
 "nbformat": 4,
 "nbformat_minor": 4
}
